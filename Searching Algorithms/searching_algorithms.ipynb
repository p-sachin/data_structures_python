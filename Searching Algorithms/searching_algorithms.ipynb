{
 "cells": [
  {
   "attachments": {},
   "cell_type": "markdown",
   "metadata": {},
   "source": [
    "### Linear Search (Sequential Search)"
   ]
  },
  {
   "cell_type": "code",
   "execution_count": 4,
   "metadata": {},
   "outputs": [
    {
     "data": {
      "text/plain": [
       "5"
      ]
     },
     "execution_count": 4,
     "metadata": {},
     "output_type": "execute_result"
    }
   ],
   "source": [
    "# Takes 2 parameters: Array, element to be searched (target)\n",
    "def linear_search(A, key):\n",
    "    index = 0\n",
    "    n = len(A)\n",
    "    while index < n:\n",
    "        if A[index] == key:\n",
    "            return index\n",
    "        index = index + 1\n",
    "    return -1\n",
    "\n",
    "linear_search([2,15,6,0,7,8,4], 8)\n",
    "\n",
    "# Time Complexity: O(n)"
   ]
  },
  {
   "attachments": {},
   "cell_type": "markdown",
   "metadata": {},
   "source": [
    "### Binary Search (Iterative Process)"
   ]
  },
  {
   "cell_type": "code",
   "execution_count": 8,
   "metadata": {},
   "outputs": [
    {
     "data": {
      "text/plain": [
       "4"
      ]
     },
     "execution_count": 8,
     "metadata": {},
     "output_type": "execute_result"
    }
   ],
   "source": [
    "# For binary search the array/lists must be in sorted order\n",
    "# start with the middle element\n",
    "# if matches, return index\n",
    "# if key < middle element, search lower half else search upper half\n",
    "def binary_iterative(A, key):\n",
    "    l = 0\n",
    "    r = len(A) - 1\n",
    "    while l <= r:\n",
    "        mid = (l + r) // 2\n",
    "        if key == A[mid]:\n",
    "            return mid\n",
    "        elif key < A[mid]:\n",
    "            r = mid - 1\n",
    "        elif key > A[mid]:\n",
    "            l = mid + 1\n",
    "    return \"Not Found\"\n",
    "\n",
    "binary_iterative([1,4,7,9,10,15,23,27], 10)\n",
    "\n",
    "# Time Complexity: O(logn)"
   ]
  },
  {
   "attachments": {},
   "cell_type": "markdown",
   "metadata": {},
   "source": [
    "### Binary Search (Recursion)"
   ]
  },
  {
   "cell_type": "code",
   "execution_count": 15,
   "metadata": {},
   "outputs": [
    {
     "data": {
      "text/plain": [
       "4"
      ]
     },
     "execution_count": 15,
     "metadata": {},
     "output_type": "execute_result"
    }
   ],
   "source": [
    "def binary_recursion(A, key, l, r):\n",
    "    \n",
    "    if l > r:\n",
    "        return \"Not Found\"\n",
    "    else:\n",
    "        mid = (l + r) // 2\n",
    "        if key == A[mid]:\n",
    "            return mid\n",
    "        elif key < A[mid]:\n",
    "            return binary_recursion(A, key, l, mid-1)\n",
    "        elif key > A[mid]:\n",
    "            return binary_recursion(A, key, mid+1, r)\n",
    "\n",
    "binary_recursion([1,4,7,9,10,15,23,27], 10, 0, 7)\n",
    "\n",
    "# Time Complexity: O(logn)"
   ]
  },
  {
   "cell_type": "code",
   "execution_count": 21,
   "metadata": {},
   "outputs": [],
   "source": [
    "# Calculate Execution Time\n",
    "import time\n",
    "def calculateTime(func):\n",
    "    def wrapper(*args, **kwargs):\n",
    "        start = time.time()\n",
    "        result = func(*args, **kwargs)\n",
    "        end = time.time()\n",
    "        print(func.__name__ + \" took \" + str((end-start)*1000) + \" milliseconds.\" )\n",
    "        return result\n",
    "    return wrapper"
   ]
  },
  {
   "attachments": {},
   "cell_type": "markdown",
   "metadata": {},
   "source": [
    "#### Binary Search"
   ]
  },
  {
   "cell_type": "code",
   "execution_count": 126,
   "metadata": {},
   "outputs": [],
   "source": [
    "numbers_list = [1,4,6,9,11,15,15,15,17,21,34,34,56]\n",
    "\n",
    "@calculateTime\n",
    "def linearSearch(numbers_list, number_to_find):\n",
    "    for index, value in enumerate(numbers_list):\n",
    "        if value == number_to_find:\n",
    "            return index\n",
    "    return -1\n",
    "\n",
    "def binarySearch(numbers_list, number_to_find):\n",
    "    left_index = 0\n",
    "    right_index = len(numbers_list) - 1\n",
    "\n",
    "    while left_index <= right_index:\n",
    "        mid_index = (left_index + right_index) // 2\n",
    "        mid_number = numbers_list[mid_index]\n",
    "\n",
    "        if mid_number == number_to_find:\n",
    "            return mid_index\n",
    "\n",
    "        if mid_number < number_to_find:\n",
    "            left_index = mid_index + 1\n",
    "        else:\n",
    "            right_index = mid_index - 1\n",
    "\n",
    "    return -1"
   ]
  },
  {
   "cell_type": "code",
   "execution_count": 73,
   "metadata": {},
   "outputs": [
    {
     "name": "stdout",
     "output_type": "stream",
     "text": [
      "binarySearch took 0.0 milliseconds.\n"
     ]
    },
    {
     "data": {
      "text/plain": [
       "2"
      ]
     },
     "execution_count": 73,
     "metadata": {},
     "output_type": "execute_result"
    }
   ],
   "source": [
    "binarySearch(numbers_list, 6)"
   ]
  },
  {
   "cell_type": "code",
   "execution_count": 59,
   "metadata": {},
   "outputs": [
    {
     "name": "stdout",
     "output_type": "stream",
     "text": [
      "linearSearch took 0.0 milliseconds.\n"
     ]
    },
    {
     "data": {
      "text/plain": [
       "4"
      ]
     },
     "execution_count": 59,
     "metadata": {},
     "output_type": "execute_result"
    }
   ],
   "source": [
    "linearSearch(numbers_list, 81)"
   ]
  },
  {
   "attachments": {},
   "cell_type": "markdown",
   "metadata": {},
   "source": [
    "#### BinarySearch Recursive"
   ]
  },
  {
   "cell_type": "code",
   "execution_count": 68,
   "metadata": {},
   "outputs": [],
   "source": [
    "def BinarySearchRecursive(numbers_list, number_to_find, left_index, right_index):\n",
    "    if right_index < left_index:\n",
    "        return -1\n",
    "    \n",
    "    mid_index = (left_index + right_index) // 2\n",
    "    mid_number = numbers_list[mid_index]\n",
    "\n",
    "    if mid_number == number_to_find:\n",
    "        return mid_index\n",
    "\n",
    "    if mid_number < number_to_find:\n",
    "        left_index = mid_index + 1\n",
    "    else:\n",
    "        right_index = mid_index - 1\n",
    "\n",
    "    return BinarySearchRecursive(numbers_list, number_to_find, left_index, right_index)\n"
   ]
  },
  {
   "cell_type": "code",
   "execution_count": 70,
   "metadata": {},
   "outputs": [
    {
     "data": {
      "text/plain": [
       "-1"
      ]
     },
     "execution_count": 70,
     "metadata": {},
     "output_type": "execute_result"
    }
   ],
   "source": [
    "BinarySearchRecursive(numbers_list, 9809, 0, len(numbers_list)-1)"
   ]
  },
  {
   "attachments": {},
   "cell_type": "markdown",
   "metadata": {},
   "source": [
    "#### Binary Search Exercise"
   ]
  },
  {
   "cell_type": "code",
   "execution_count": 139,
   "metadata": {},
   "outputs": [],
   "source": [
    "# To be able to perform a binary search the list/array should be sorted first. Binary search won't work on unsorted list/arrays.\n",
    "numbers_list = [1,4,6,9,11,15,15,15,17,21,34,34,56]\n",
    "def find_all_occurence(numbers_list, number_to_find):\n",
    "    index = binarySearch(numbers_list, number_to_find) # 6\n",
    "    indices = [index]\n",
    "    # Find indices on left side\n",
    "    i = 0\n",
    "    while i <= index - 1:\n",
    "        if numbers_list[i] == number_to_find:\n",
    "            indices.append(i)\n",
    "            i = i + 1\n",
    "        else:\n",
    "            i = i + 1\n",
    "\n",
    "    # Find indices on right side\n",
    "    j = index + 1\n",
    "\n",
    "    while j <= len(numbers_list) - 1:\n",
    "        if numbers_list[j] == number_to_find:\n",
    "            indices.append(j)\n",
    "            j = j + 1\n",
    "        else:\n",
    "            j = j + 1\n",
    "\n",
    "    return sorted(indices)\n",
    "    "
   ]
  },
  {
   "cell_type": "code",
   "execution_count": 141,
   "metadata": {},
   "outputs": [
    {
     "data": {
      "text/plain": [
       "[5, 6, 7]"
      ]
     },
     "execution_count": 141,
     "metadata": {},
     "output_type": "execute_result"
    }
   ],
   "source": [
    "numbers_list = [1,4,6,9,11,15,15,15,17,21,34,34,56]\n",
    "find_all_occurence(numbers_list, 15)"
   ]
  }
 ],
 "metadata": {
  "kernelspec": {
   "display_name": "Python 3",
   "language": "python",
   "name": "python3"
  },
  "language_info": {
   "codemirror_mode": {
    "name": "ipython",
    "version": 3
   },
   "file_extension": ".py",
   "mimetype": "text/x-python",
   "name": "python",
   "nbconvert_exporter": "python",
   "pygments_lexer": "ipython3",
   "version": "3.8.4"
  },
  "orig_nbformat": 4,
  "vscode": {
   "interpreter": {
    "hash": "9650cb4e16cdd4a8e8e2d128bf38d875813998db22a3c986335f89e0cb4d7bb2"
   }
  }
 },
 "nbformat": 4,
 "nbformat_minor": 2
}
