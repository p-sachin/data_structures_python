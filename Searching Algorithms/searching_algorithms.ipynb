{
 "cells": [
  {
   "attachments": {},
   "cell_type": "markdown",
   "metadata": {},
   "source": [
    "### Linear Search (Sequential Search)"
   ]
  },
  {
   "cell_type": "code",
   "execution_count": 4,
   "metadata": {},
   "outputs": [
    {
     "data": {
      "text/plain": [
       "5"
      ]
     },
     "execution_count": 4,
     "metadata": {},
     "output_type": "execute_result"
    }
   ],
   "source": [
    "# Takes 2 parameters: Array, element to be searched (target)\n",
    "def linear_search(A, key):\n",
    "    index = 0\n",
    "    n = len(A)\n",
    "    while index < n:\n",
    "        if A[index] == key:\n",
    "            return index\n",
    "        index = index + 1\n",
    "    return -1\n",
    "\n",
    "linear_search([2,15,6,0,7,8,4], 8)\n",
    "\n",
    "# Time Complexity: O(n)"
   ]
  },
  {
   "attachments": {},
   "cell_type": "markdown",
   "metadata": {},
   "source": [
    "### Binary Search (Iterative Process)"
   ]
  },
  {
   "cell_type": "code",
   "execution_count": 8,
   "metadata": {},
   "outputs": [
    {
     "data": {
      "text/plain": [
       "4"
      ]
     },
     "execution_count": 8,
     "metadata": {},
     "output_type": "execute_result"
    }
   ],
   "source": [
    "# For binary search the array/lists must be in sorted order\n",
    "# start with the middle element\n",
    "# if matches, return index\n",
    "# if key < middle element, search lower half else search upper half\n",
    "def binary_iterative(A, key):\n",
    "    l = 0\n",
    "    r = len(A) - 1\n",
    "    while l <= r:\n",
    "        mid = (l + r) // 2\n",
    "        if key == A[mid]:\n",
    "            return mid\n",
    "        elif key < A[mid]:\n",
    "            r = mid - 1\n",
    "        elif key > A[mid]:\n",
    "            l = mid + 1\n",
    "    return \"Not Found\"\n",
    "\n",
    "binary_iterative([1,4,7,9,10,15,23,27], 10)"
   ]
  },
  {
   "attachments": {},
   "cell_type": "markdown",
   "metadata": {},
   "source": [
    "### Binary Search (Recursion)"
   ]
  },
  {
   "cell_type": "code",
   "execution_count": 15,
   "metadata": {},
   "outputs": [
    {
     "data": {
      "text/plain": [
       "4"
      ]
     },
     "execution_count": 15,
     "metadata": {},
     "output_type": "execute_result"
    }
   ],
   "source": [
    "def binary_recursion(A, key, l, r):\n",
    "    \n",
    "    if l > r:\n",
    "        return \"Not Found\"\n",
    "    else:\n",
    "        mid = (l + r) // 2\n",
    "        if key == A[mid]:\n",
    "            return mid\n",
    "        elif key < A[mid]:\n",
    "            return binary_recursion(A, key, l, mid-1)\n",
    "        elif key > A[mid]:\n",
    "            return binary_recursion(A, key, mid+1, r)\n",
    "\n",
    "binary_recursion([1,4,7,9,10,15,23,27], 10, 0, 7)\n",
    "    "
   ]
  }
 ],
 "metadata": {
  "kernelspec": {
   "display_name": "Python 3",
   "language": "python",
   "name": "python3"
  },
  "language_info": {
   "codemirror_mode": {
    "name": "ipython",
    "version": 3
   },
   "file_extension": ".py",
   "mimetype": "text/x-python",
   "name": "python",
   "nbconvert_exporter": "python",
   "pygments_lexer": "ipython3",
   "version": "3.8.4"
  },
  "orig_nbformat": 4,
  "vscode": {
   "interpreter": {
    "hash": "9650cb4e16cdd4a8e8e2d128bf38d875813998db22a3c986335f89e0cb4d7bb2"
   }
  }
 },
 "nbformat": 4,
 "nbformat_minor": 2
}
