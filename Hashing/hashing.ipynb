{
 "cells": [
  {
   "attachments": {},
   "cell_type": "markdown",
   "metadata": {},
   "source": [
    "#### Hashing"
   ]
  },
  {
   "attachments": {},
   "cell_type": "markdown",
   "metadata": {},
   "source": [
    "##### Hash Function"
   ]
  },
  {
   "cell_type": "code",
   "execution_count": 83,
   "metadata": {},
   "outputs": [],
   "source": [
    "def getHash(key):\n",
    "    hash = 0\n",
    "    for char in key:\n",
    "        # Python ord() function returns the Unicode code (ASCII) from a given character.\n",
    "        hash += ord(char)\n",
    "    return hash % 100"
   ]
  },
  {
   "cell_type": "code",
   "execution_count": 194,
   "metadata": {},
   "outputs": [],
   "source": [
    "class HashTable:\n",
    "    def __init__(self):\n",
    "        self.MAX = 10\n",
    "        self.arr = [[] for i in range(self.MAX)]\n",
    "\n",
    "    def getHash(self, key):\n",
    "        hash = 0\n",
    "        for char in key:\n",
    "            hash += ord(char)\n",
    "        return hash % self.MAX\n",
    "\n",
    "    # Collision Handling \n",
    "    def __setitem__(self, key, value):\n",
    "        hash = self.getHash(key)\n",
    "        found = False\n",
    "        for idx, element in enumerate(self.arr[hash]):\n",
    "            if len(element)==2 and element[0]==key:\n",
    "                self.arr[hash][idx] = (key, value)\n",
    "                found = True\n",
    "                break\n",
    "        if not found:\n",
    "            self.arr[hash].append((key, value))\n",
    "\n",
    "    def __getitem__(self, key):\n",
    "        hash = self.getHash(key)\n",
    "        for element in (self.arr[hash]):\n",
    "            if element[0] == key:\n",
    "                return element[1]\n",
    "\n",
    "    def __delitem__(self, key):\n",
    "        hash = getHash(key)\n",
    "        for index, element in enumerate(self.arr[hash]):\n",
    "            if element[0] == key:\n",
    "                del self.arr[hash][index]\n"
   ]
  },
  {
   "cell_type": "code",
   "execution_count": 203,
   "metadata": {},
   "outputs": [
    {
     "data": {
      "text/plain": [
       "[[], [], [], [], [], [], [], [], [], []]"
      ]
     },
     "execution_count": 203,
     "metadata": {},
     "output_type": "execute_result"
    }
   ],
   "source": [
    "h = HashTable()\n",
    "h.arr"
   ]
  },
  {
   "cell_type": "code",
   "execution_count": 204,
   "metadata": {},
   "outputs": [
    {
     "data": {
      "text/plain": [
       "[[('apple', 20), ('mango', 40)],\n",
       " [],\n",
       " [('grapes', 50), ('guava', 100)],\n",
       " [],\n",
       " [],\n",
       " [],\n",
       " [('papaya', 14)],\n",
       " [],\n",
       " [],\n",
       " [('banana', 30)]]"
      ]
     },
     "execution_count": 204,
     "metadata": {},
     "output_type": "execute_result"
    }
   ],
   "source": [
    "h['apple'] = 20\n",
    "h['banana'] = 30\n",
    "h['mango'] = 40\n",
    "h['grapes'] = 50\n",
    "h['guava'] = 100\n",
    "h[\"papaya\"] = 14\n",
    "h.arr"
   ]
  },
  {
   "cell_type": "code",
   "execution_count": 205,
   "metadata": {},
   "outputs": [
    {
     "data": {
      "text/plain": [
       "50"
      ]
     },
     "execution_count": 205,
     "metadata": {},
     "output_type": "execute_result"
    }
   ],
   "source": [
    "h['grapes']"
   ]
  },
  {
   "attachments": {},
   "cell_type": "markdown",
   "metadata": {},
   "source": [
    "#### Exercies"
   ]
  },
  {
   "cell_type": "code",
   "execution_count": 264,
   "metadata": {},
   "outputs": [
    {
     "name": "stdout",
     "output_type": "stream",
     "text": [
      "31.285714285714285\n",
      "38\n"
     ]
    }
   ],
   "source": [
    "import csv\n",
    "\n",
    "arr_temp = []\n",
    "\n",
    "with open('nyc_weather.csv', 'r') as f:\n",
    "    reader = csv.DictReader(f)\n",
    "\n",
    "    for elements in reader:\n",
    "        arr_temp.append(int(elements['temperature(F)']))\n",
    "\n",
    "# 1. What is the average temperature in first week of Jan?\n",
    "average_temp = sum(arr_temp[:7]) / len(arr_temp[:7])\n",
    "print(average_temp)\n",
    "\n",
    "# 2.What was the maximum temperature in first 10 days of Jan?\n",
    "max_temperature = max(arr_temp[:10])\n",
    "print(max_temperature)"
   ]
  },
  {
   "cell_type": "code",
   "execution_count": 270,
   "metadata": {},
   "outputs": [
    {
     "name": "stdout",
     "output_type": "stream",
     "text": [
      "35\n",
      "34\n"
     ]
    }
   ],
   "source": [
    "# We can use dictionary as it uses hash map for this problem.\n",
    "\n",
    "my_dict = {}\n",
    "\n",
    "with open('nyc_weather.csv', 'r') as f:\n",
    "    reader = csv.DictReader(f)\n",
    "\n",
    "    for elements in reader:\n",
    "        my_dict[elements['date']] = elements['temperature(F)']\n",
    "\n",
    "# 3. What was the temperature on Jan 9?\n",
    "print(my_dict['Jan 9'])\n",
    "\n",
    "# 4. What was the temperature on Jan 4?\n",
    "print(my_dict['Jan 4'])"
   ]
  },
  {
   "cell_type": "code",
   "execution_count": 321,
   "metadata": {},
   "outputs": [],
   "source": [
    "# Count number of words occurence in poems.txt\n",
    "word_count = {}\n",
    "with open('poem.txt', 'r') as f:\n",
    "    text = f.readlines()\n",
    "\n",
    "def clean_text(x):\n",
    "    return x.replace('\\n', \"\").replace(\",\", \"\").strip().replace(\";\", \"\").replace(\".\", \"\").split(' ')\n",
    "\n",
    "cleaned_text = list(map(clean_text, text))\n",
    "\n",
    "for words in cleaned_text:\n",
    "    for token in words:\n",
    "        if token in word_count:\n",
    "            word_count[token]+=1\n",
    "        else:\n",
    "            word_count[token]=1\n"
   ]
  }
 ],
 "metadata": {
  "kernelspec": {
   "display_name": "Python 3",
   "language": "python",
   "name": "python3"
  },
  "language_info": {
   "codemirror_mode": {
    "name": "ipython",
    "version": 3
   },
   "file_extension": ".py",
   "mimetype": "text/x-python",
   "name": "python",
   "nbconvert_exporter": "python",
   "pygments_lexer": "ipython3",
   "version": "3.8.4"
  },
  "orig_nbformat": 4,
  "vscode": {
   "interpreter": {
    "hash": "9650cb4e16cdd4a8e8e2d128bf38d875813998db22a3c986335f89e0cb4d7bb2"
   }
  }
 },
 "nbformat": 4,
 "nbformat_minor": 2
}
