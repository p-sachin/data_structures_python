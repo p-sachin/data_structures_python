{
 "cells": [
  {
   "attachments": {},
   "cell_type": "markdown",
   "metadata": {},
   "source": [
    "#### Hashing"
   ]
  },
  {
   "attachments": {},
   "cell_type": "markdown",
   "metadata": {},
   "source": [
    "##### Hash Function"
   ]
  },
  {
   "cell_type": "code",
   "execution_count": 83,
   "metadata": {},
   "outputs": [],
   "source": [
    "def getHash(key):\n",
    "    hash = 0\n",
    "    for char in key:\n",
    "        # Python ord() function returns the Unicode code (ASCII) from a given character.\n",
    "        hash += ord(char)\n",
    "    return hash % 100"
   ]
  },
  {
   "cell_type": "code",
   "execution_count": 194,
   "metadata": {},
   "outputs": [],
   "source": [
    "class HashTable:\n",
    "    def __init__(self):\n",
    "        self.MAX = 10\n",
    "        self.arr = [[] for i in range(self.MAX)]\n",
    "\n",
    "    def getHash(self, key):\n",
    "        hash = 0\n",
    "        for char in key:\n",
    "            hash += ord(char)\n",
    "        return hash % self.MAX\n",
    "\n",
    "    # Collision Handling \n",
    "    def __setitem__(self, key, value):\n",
    "        hash = self.getHash(key)\n",
    "        found = False\n",
    "        for idx, element in enumerate(self.arr[hash]):\n",
    "            if len(element)==2 and element[0]==key:\n",
    "                self.arr[hash][idx] = (key, value)\n",
    "                found = True\n",
    "                break\n",
    "        if not found:\n",
    "            self.arr[hash].append((key, value))\n",
    "\n",
    "    def __getitem__(self, key):\n",
    "        hash = self.getHash(key)\n",
    "        for element in (self.arr[hash]):\n",
    "            if element[0] == key:\n",
    "                return element[1]\n",
    "\n",
    "    def __delitem__(self, key):\n",
    "        hash = getHash(key)\n",
    "        for index, element in enumerate(self.arr[hash]):\n",
    "            if element[0] == key:\n",
    "                del self.arr[hash][index]\n"
   ]
  },
  {
   "cell_type": "code",
   "execution_count": 195,
   "metadata": {},
   "outputs": [
    {
     "data": {
      "text/plain": [
       "[[], [], [], [], [], [], [], [], [], []]"
      ]
     },
     "execution_count": 195,
     "metadata": {},
     "output_type": "execute_result"
    }
   ],
   "source": [
    "h = HashTable()\n",
    "h.getHash('sachin pokharel is a good boy')\n",
    "h.arr"
   ]
  },
  {
   "cell_type": "code",
   "execution_count": 196,
   "metadata": {},
   "outputs": [
    {
     "data": {
      "text/plain": [
       "[[('sachin', 20)],\n",
       " [],\n",
       " [('satish', 50)],\n",
       " [],\n",
       " [],\n",
       " [('jeena', 30)],\n",
       " [],\n",
       " [('shanti', 100)],\n",
       " [('anisha', 40), ('nepal', 14)],\n",
       " []]"
      ]
     },
     "execution_count": 196,
     "metadata": {},
     "output_type": "execute_result"
    }
   ],
   "source": [
    "h['sachin'] = 20\n",
    "h['jeena'] = 30\n",
    "h['anisha'] = 40\n",
    "h['satish'] = 50\n",
    "h['shanti'] = 100\n",
    "h[\"nepal\"] = 14\n",
    "h.arr"
   ]
  }
 ],
 "metadata": {
  "kernelspec": {
   "display_name": "Python 3",
   "language": "python",
   "name": "python3"
  },
  "language_info": {
   "codemirror_mode": {
    "name": "ipython",
    "version": 3
   },
   "file_extension": ".py",
   "mimetype": "text/x-python",
   "name": "python",
   "nbconvert_exporter": "python",
   "pygments_lexer": "ipython3",
   "version": "3.8.4"
  },
  "orig_nbformat": 4,
  "vscode": {
   "interpreter": {
    "hash": "9650cb4e16cdd4a8e8e2d128bf38d875813998db22a3c986335f89e0cb4d7bb2"
   }
  }
 },
 "nbformat": 4,
 "nbformat_minor": 2
}
