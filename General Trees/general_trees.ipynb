{
 "cells": [
  {
   "attachments": {},
   "cell_type": "markdown",
   "metadata": {},
   "source": [
    "#### General Trees"
   ]
  },
  {
   "cell_type": "code",
   "execution_count": 16,
   "metadata": {},
   "outputs": [],
   "source": [
    "# A child node a another tree. \n",
    "class TreeNode:\n",
    "    def __init__(self, data):\n",
    "        self.data = data\n",
    "        self.children = []\n",
    "        self.parent = None\n",
    "\n",
    "    def add_child(self, child):\n",
    "        child.parent = self\n",
    "        self.children.append(child)\n",
    "\n",
    "    def get_level(self):\n",
    "        level = 0\n",
    "        p = self.parent\n",
    "        while p:\n",
    "            level += 1\n",
    "            p = p.parent\n",
    "        return level\n",
    "\n",
    "    def print_tree(self):\n",
    "        spaces = ' ' * self.get_level() * 3\n",
    "        prefix = spaces + \"|__\" if self.parent else \"\"\n",
    "        print(prefix + self.data)\n",
    "        if self.children:\n",
    "            for child in self.children:\n",
    "                child.print_tree()\n",
    "\n",
    "def product_tree():\n",
    "    root = TreeNode(\"Electronics\")\n",
    "\n",
    "    laptop = TreeNode(\"Laptop\")\n",
    "    laptop.add_child(TreeNode(\"Mac\"))\n",
    "    laptop.add_child(TreeNode(\"Surface\"))\n",
    "    laptop.add_child(TreeNode(\"Thinkpad\"))\n",
    "\n",
    "    cellphone = TreeNode(\"Cellphone\")\n",
    "    cellphone.add_child(TreeNode(\"Iphone\"))\n",
    "    cellphone.add_child(TreeNode(\"Samsung\"))\n",
    "    cellphone.add_child(TreeNode(\"One Plus\"))\n",
    "\n",
    "    tv = TreeNode(\"TV\")\n",
    "    tv.add_child(TreeNode(\"Panasonic\"))\n",
    "    tv.add_child(TreeNode(\"LG\"))\n",
    "    tv.add_child(TreeNode(\"Sony\"))\n",
    "\n",
    "    # Add to the root Node which is Electronics\n",
    "    root.add_child(laptop)\n",
    "    root.add_child(cellphone)\n",
    "    root.add_child(tv)\n",
    "\n",
    "    return root\n",
    "\n"
   ]
  },
  {
   "cell_type": "code",
   "execution_count": 17,
   "metadata": {},
   "outputs": [
    {
     "name": "stdout",
     "output_type": "stream",
     "text": [
      "Electronics\n",
      "   |__Laptop\n",
      "      |__Mac\n",
      "      |__Surface\n",
      "      |__Thinkpad\n",
      "   |__Cellphone\n",
      "      |__Iphone\n",
      "      |__Samsung\n",
      "      |__One Plus\n",
      "   |__TV\n",
      "      |__Panasonic\n",
      "      |__LG\n",
      "      |__Sony\n"
     ]
    }
   ],
   "source": [
    "root = product_tree()\n",
    "root.print_tree()"
   ]
  },
  {
   "attachments": {},
   "cell_type": "markdown",
   "metadata": {},
   "source": [
    "#### Exercise"
   ]
  },
  {
   "cell_type": "code",
   "execution_count": 1,
   "metadata": {},
   "outputs": [],
   "source": [
    "class CompanyTree:\n",
    "    def __init__(self, name, designation):\n",
    "        self.name = name\n",
    "        self.designation = designation\n",
    "        self.children = []\n",
    "        self.parent = None\n",
    "\n",
    "    def addChild(self, child):\n",
    "        # Parent node will be the current self node\n",
    "        child.parent = self\n",
    "        self.children.append(child)\n",
    "\n",
    "    def get_level(self):\n",
    "        level = 0\n",
    "        p = self.parent\n",
    "        while p:\n",
    "            level += 1\n",
    "            p = p.parent\n",
    "        return level\n",
    "\n",
    "    def print_tree(self, key):\n",
    "        spaces = ' ' * self.get_level() * 3\n",
    "        prefix = spaces + '|__' if self.parent else \"\"\n",
    "        if key == 'name':\n",
    "            print(prefix + self.name)\n",
    "        elif key == 'designation':\n",
    "            print(prefix + self.designation)\n",
    "        elif key == 'both':\n",
    "            print(f\"{prefix} {self.name} ({self.designation})\")\n",
    "            \n",
    "        if self.children:\n",
    "            for child in self.children:\n",
    "                child.print_tree(key)\n",
    "\n",
    "    \n",
    "def build_management_tree():\n",
    "    root = CompanyTree('Nilupul', 'CEO')\n",
    "\n",
    "    cto = CompanyTree('Chinmay', 'CTO')\n",
    "    \n",
    "    infra_lead = CompanyTree('Vishwa', 'Infrastructure Head')\n",
    "    infra_lead.addChild(CompanyTree('Dhaval', 'Cloud Manager'))\n",
    "    infra_lead.addChild(CompanyTree('Abhijit', 'App Manager'))\n",
    "\n",
    "    cto.addChild(infra_lead)\n",
    "    cto.addChild(CompanyTree('Aamir', 'Application Head'))\n",
    "\n",
    "    hr_head = CompanyTree('Gels', 'HR Head')\n",
    "    hr_head.addChild(CompanyTree('Peter', 'Recruitment Manager'))\n",
    "    hr_head.addChild(CompanyTree('Waqas', 'Policy Manager'))\n",
    "    # root.addChild(hr_head)\n",
    "\n",
    "    root.addChild(cto)\n",
    "    root.addChild(hr_head)\n",
    "    \n",
    "\n",
    "    return root\n",
    "\n",
    "        \n",
    "\n"
   ]
  },
  {
   "cell_type": "code",
   "execution_count": 2,
   "metadata": {},
   "outputs": [
    {
     "name": "stdout",
     "output_type": "stream",
     "text": [
      " Nilupul (CEO)\n",
      "   |__ Chinmay (CTO)\n",
      "      |__ Vishwa (Infrastructure Head)\n",
      "         |__ Dhaval (Cloud Manager)\n",
      "         |__ Abhijit (App Manager)\n",
      "      |__ Aamir (Application Head)\n",
      "   |__ Gels (HR Head)\n",
      "      |__ Peter (Recruitment Manager)\n",
      "      |__ Waqas (Policy Manager)\n"
     ]
    }
   ],
   "source": [
    "root_node = build_management_tree()\n",
    "root_node.print_tree('both')"
   ]
  },
  {
   "cell_type": "code",
   "execution_count": 36,
   "metadata": {},
   "outputs": [],
   "source": [
    "class LocationTree:\n",
    "    def __init__(self, data):\n",
    "        self.data = data\n",
    "        self.children = []\n",
    "        self.parent = None\n",
    "\n",
    "\n",
    "    def addChild(self, child):\n",
    "        child.parent = self\n",
    "        self.children.append(child)\n",
    "\n",
    "    def get_level(self):\n",
    "        level = 0\n",
    "        p = self.parent\n",
    "        while p:\n",
    "            level+=1\n",
    "            p = p.parent\n",
    "        return level\n",
    "\n",
    "    def print_tree(self, level):\n",
    "        if self.get_level() > level:\n",
    "            return\n",
    "\n",
    "        spaces = ' ' * self.get_level() * 3\n",
    "        prefix = spaces + '|__' if self.parent else \"\"\n",
    "        print(prefix + self.data)\n",
    "\n",
    "        if self.children:\n",
    "            for child in self.children:\n",
    "                child.print_tree(level)\n",
    "\n",
    "\n",
    "def build_location_tree():\n",
    "    # State\n",
    "    gujarat = LocationTree('Gujarat')\n",
    "    gujarat.addChild(LocationTree('Ahmedabad'))\n",
    "    gujarat.addChild(LocationTree('Baroda'))\n",
    "\n",
    "    karnataka = LocationTree('Karnataka')\n",
    "    karnataka.addChild(LocationTree('Bangluru'))\n",
    "    karnataka.addChild(LocationTree('Mysore'))\n",
    "\n",
    "    india = LocationTree('India')\n",
    "    india.addChild(gujarat)\n",
    "    india.addChild(karnataka)\n",
    "\n",
    "    new_jersey = LocationTree('New Jersey')\n",
    "    new_jersey.addChild(LocationTree('Princeton'))\n",
    "    new_jersey.addChild(LocationTree('Trenton'))\n",
    "\n",
    "    california = LocationTree('California')\n",
    "    california.addChild(LocationTree('San Fransisco'))\n",
    "    california.addChild(LocationTree('Mountain View'))\n",
    "    california.addChild(LocationTree('Palo Alto'))\n",
    "\n",
    "    usa = LocationTree('USA')\n",
    "    usa.addChild(new_jersey)\n",
    "    usa.addChild(california)\n",
    "\n",
    "    countries = LocationTree('Global')\n",
    "    countries.addChild(india)\n",
    "    countries.addChild(usa)\n",
    "    \n",
    "    return countries"
   ]
  },
  {
   "cell_type": "code",
   "execution_count": 37,
   "metadata": {},
   "outputs": [
    {
     "name": "stdout",
     "output_type": "stream",
     "text": [
      "Global\n",
      "   |__India\n",
      "      |__Gujarat\n",
      "         |__Ahmedabad\n",
      "         |__Baroda\n",
      "      |__Karnataka\n",
      "         |__Bangluru\n",
      "         |__Mysore\n",
      "   |__USA\n",
      "      |__New Jersey\n",
      "         |__Princeton\n",
      "         |__Trenton\n",
      "      |__California\n",
      "         |__San Fransisco\n",
      "         |__Mountain View\n",
      "         |__Palo Alto\n"
     ]
    }
   ],
   "source": [
    "root_node = build_location_tree()\n",
    "root_node.print_tree(3)"
   ]
  }
 ],
 "metadata": {
  "kernelspec": {
   "display_name": "Python 3",
   "language": "python",
   "name": "python3"
  },
  "language_info": {
   "codemirror_mode": {
    "name": "ipython",
    "version": 3
   },
   "file_extension": ".py",
   "mimetype": "text/x-python",
   "name": "python",
   "nbconvert_exporter": "python",
   "pygments_lexer": "ipython3",
   "version": "3.8.4 (tags/v3.8.4:dfa645a, Jul 13 2020, 16:46:45) [MSC v.1924 64 bit (AMD64)]"
  },
  "orig_nbformat": 4,
  "vscode": {
   "interpreter": {
    "hash": "9650cb4e16cdd4a8e8e2d128bf38d875813998db22a3c986335f89e0cb4d7bb2"
   }
  }
 },
 "nbformat": 4,
 "nbformat_minor": 2
}
