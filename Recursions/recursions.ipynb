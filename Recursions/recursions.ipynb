{
 "cells": [
  {
   "attachments": {},
   "cell_type": "markdown",
   "metadata": {},
   "source": [
    "### Iterative Function"
   ]
  },
  {
   "cell_type": "code",
   "execution_count": 6,
   "metadata": {},
   "outputs": [
    {
     "name": "stdout",
     "output_type": "stream",
     "text": [
      "16\n",
      "9\n",
      "4\n",
      "1\n"
     ]
    }
   ],
   "source": [
    "def calculate_itr(n):\n",
    "    while n > 0: \n",
    "        k = n ** 2\n",
    "        print(k)\n",
    "        n = n - 1\n",
    "\n",
    "calculate_itr(4)\n",
    "\n",
    "# Note: Time Complexity: O(n)"
   ]
  },
  {
   "attachments": {},
   "cell_type": "markdown",
   "metadata": {},
   "source": [
    "### Recursion"
   ]
  },
  {
   "cell_type": "code",
   "execution_count": 7,
   "metadata": {},
   "outputs": [
    {
     "name": "stdout",
     "output_type": "stream",
     "text": [
      "16\n",
      "9\n",
      "4\n",
      "1\n"
     ]
    }
   ],
   "source": [
    "def calculate_rec(n):\n",
    "    if n > 0: \n",
    "        k = n ** 2 \n",
    "        print(k) \n",
    "        calculate_rec(n-1)\n",
    "\n",
    "calculate_rec(4)\n",
    "\n",
    "# Time Complexity: O(n)"
   ]
  },
  {
   "attachments": {},
   "cell_type": "markdown",
   "metadata": {},
   "source": [
    "### Types of Recursions\n",
    "1. Tail Recursion\n",
    "2. Head Recursion\n",
    "3. Tree Recursion\n",
    "4. Indirect Recursion "
   ]
  },
  {
   "cell_type": "code",
   "execution_count": null,
   "metadata": {},
   "outputs": [],
   "source": [
    "# Tail Recursion\n",
    "def calculate_rec(n):\n",
    "    if n > 0: \n",
    "        k = n ** 2 \n",
    "        print(k) \n",
    "        calculate_rec(n-1)\n",
    "\n",
    "calculate_rec(4)\n",
    "\n",
    "# When a function call itself and that called statement is the last statement of the function it is called Tail recursion. The\n",
    "# call should be the last statement."
   ]
  },
  {
   "cell_type": "code",
   "execution_count": 9,
   "metadata": {},
   "outputs": [
    {
     "name": "stdout",
     "output_type": "stream",
     "text": [
      "1\n",
      "4\n",
      "9\n",
      "16\n"
     ]
    }
   ],
   "source": [
    "# Head Recursion\n",
    "def calculate_rec(n):\n",
    "    if n > 0: \n",
    "        calculate_rec(n-1)\n",
    "        k = n ** 2 \n",
    "        print(k) \n",
    "        \n",
    "calculate_rec(4)\n",
    "\n",
    "# When a function call itself and that called statement is the first statement of the function it is called Head recursion. The\n",
    "# call should be the first statement after the base statement.\n"
   ]
  },
  {
   "cell_type": "code",
   "execution_count": null,
   "metadata": {},
   "outputs": [],
   "source": [
    "# Tree Recursion - when a function call itself more than once within thhe base condition.\n",
    "def calculate(n):\n",
    "    if n > 0:\n",
    "        calculate(n-1)\n",
    "        k = n ** 2\n",
    "        print(k)\n",
    "        calculate(n-1)\n",
    "\n",
    "calculate(3)\n",
    "\n",
    "# Time Complexity: 0(2^n)"
   ]
  },
  {
   "cell_type": "code",
   "execution_count": 12,
   "metadata": {},
   "outputs": [],
   "source": [
    "# Indirect Recursion\n",
    "def calculateA(n):\n",
    "    if n > 0:\n",
    "        ...\n",
    "        calculateB(n - 1)\n",
    "        ...\n",
    "\n",
    "\n",
    "def calculateB(n):\n",
    "    if n > 0:\n",
    "        ...\n",
    "        calculateA(n - 1)\n",
    "        ...\n",
    "\n",
    "# In indirect recursion the function will not call itself but calls another function and so on till the last function will make\n",
    "# a call to the first function."
   ]
  },
  {
   "attachments": {},
   "cell_type": "markdown",
   "metadata": {},
   "source": [
    "### Sum of N natural Numbers"
   ]
  },
  {
   "cell_type": "code",
   "execution_count": 18,
   "metadata": {},
   "outputs": [
    {
     "data": {
      "text/plain": [
       "10"
      ]
     },
     "execution_count": 18,
     "metadata": {},
     "output_type": "execute_result"
    }
   ],
   "source": [
    "def natural_sum(n):\n",
    "    if n == 0:\n",
    "        return 0\n",
    "    else:\n",
    "        return natural_sum(n-1) + n\n",
    "\n",
    "natural_sum(4)"
   ]
  },
  {
   "attachments": {},
   "cell_type": "markdown",
   "metadata": {},
   "source": [
    "### Factorial of N Numbers"
   ]
  },
  {
   "cell_type": "code",
   "execution_count": 21,
   "metadata": {},
   "outputs": [
    {
     "data": {
      "text/plain": [
       "120"
      ]
     },
     "execution_count": 21,
     "metadata": {},
     "output_type": "execute_result"
    }
   ],
   "source": [
    "def factorial(n):\n",
    "    if n == 0:\n",
    "        return 1\n",
    "    else:\n",
    "        return factorial(n-1) * n\n",
    "\n",
    "factorial(5)"
   ]
  }
 ],
 "metadata": {
  "kernelspec": {
   "display_name": "Python 3",
   "language": "python",
   "name": "python3"
  },
  "language_info": {
   "codemirror_mode": {
    "name": "ipython",
    "version": 3
   },
   "file_extension": ".py",
   "mimetype": "text/x-python",
   "name": "python",
   "nbconvert_exporter": "python",
   "pygments_lexer": "ipython3",
   "version": "3.8.4"
  },
  "orig_nbformat": 4,
  "vscode": {
   "interpreter": {
    "hash": "9650cb4e16cdd4a8e8e2d128bf38d875813998db22a3c986335f89e0cb4d7bb2"
   }
  }
 },
 "nbformat": 4,
 "nbformat_minor": 2
}
