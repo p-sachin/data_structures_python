{
 "cells": [
  {
   "attachments": {},
   "cell_type": "markdown",
   "metadata": {},
   "source": [
    "#### Arrays vs Linked List\n",
    "\n",
    "All elements or data must be of same type in array. Array are of fixed size. The size of the array must be declared at the beginning\n",
    "and once declared size cannot be changed. Array stores data sequentially in the memory.\n",
    "\n",
    "Linked list is a collection of elements, where each element is represented as a node. Each node contains a data and a link to other node. Node is a location to the computer memory. Link stores memory address of the next node. The link for the last node will be NULL. Linked list memory address may or may not be in sequences."
   ]
  },
  {
   "attachments": {},
   "cell_type": "markdown",
   "metadata": {},
   "source": [
    "##### How to create a node of linked list?"
   ]
  },
  {
   "cell_type": "code",
   "execution_count": 15,
   "metadata": {},
   "outputs": [
    {
     "data": {
      "text/plain": [
       "7"
      ]
     },
     "execution_count": 15,
     "metadata": {},
     "output_type": "execute_result"
    }
   ],
   "source": [
    "class Node:\n",
    "    def __init__(self, val, next):\n",
    "        self.val = val\n",
    "        self.next = next\n",
    "\n",
    "n1 = Node(7, None)\n",
    "n2 = Node(4, None)\n",
    "n1.next = n2\n",
    "n1.val"
   ]
  },
  {
   "attachments": {},
   "cell_type": "markdown",
   "metadata": {},
   "source": [
    "#### Creating and Displaying Linked List"
   ]
  },
  {
   "cell_type": "code",
   "execution_count": 67,
   "metadata": {},
   "outputs": [
    {
     "name": "stdout",
     "output_type": "stream",
     "text": [
      "7 --> 10 --> 122--> NULL \n"
     ]
    }
   ],
   "source": [
    "class Node:\n",
    "    def __init__(self, val, next):\n",
    "        self.val = val\n",
    "        self.next = next\n",
    "\n",
    "class LinkedList:\n",
    "    def __init__(self):\n",
    "        # Declare head and tail\n",
    "        self.head = None\n",
    "        self.tail = None\n",
    "        self.size = 0\n",
    "\n",
    "    def addlast(self, e):\n",
    "        new_node = Node(e, None)\n",
    "        if self.size == 0:\n",
    "            self.head = new_node\n",
    "        else:\n",
    "            self.tail.next = new_node\n",
    "        \n",
    "        self.tail = new_node\n",
    "        \n",
    "        self.size += 1\n",
    "\n",
    "    def display(self):\n",
    "        p = self.head\n",
    "\n",
    "        while p:\n",
    "            if p.next != None:\n",
    "                print(p.val, end=\" --> \")\n",
    "            else:\n",
    "                print(p.val, end='--> NULL \\n')\n",
    "            \n",
    "            \n",
    "            p = p.next\n",
    "    \n",
    "\n",
    "L = LinkedList()\n",
    "L.addlast(7)\n",
    "L.addlast(10)\n",
    "L.addlast(122)\n",
    "L.display()"
   ]
  },
  {
   "attachments": {},
   "cell_type": "markdown",
   "metadata": {},
   "source": [
    "#### Linked List Operations (Insert)"
   ]
  },
  {
   "cell_type": "code",
   "execution_count": 87,
   "metadata": {},
   "outputs": [
    {
     "name": "stdout",
     "output_type": "stream",
     "text": [
      "100 --> 5 --> 2 --> 10 --> 15 --> 20 --> 24 --> 12 --> 56 --> 45 --> 300 --> 67 --> 13 --> 11--> NULL \n",
      "The value 100 that you were looking is on index 0 of the list\n",
      "The value 15 that you were looking is on index 4 of the list\n",
      "14\n"
     ]
    }
   ],
   "source": [
    "class InsertLinkedList(LinkedList):\n",
    "    def __init__(self):\n",
    "        super().__init__()\n",
    "\n",
    "    def search(self, key):\n",
    "        p = self.head\n",
    "        index = 0\n",
    "\n",
    "        while p:\n",
    "            if p.val == key:\n",
    "                return f\"The value {key} that you were looking is on index {index} of the list\"\n",
    "            \n",
    "            p = p.next\n",
    "            index += 1\n",
    "        return f\"Sorry! could not find the value {key} in the list.\"\n",
    "\n",
    "\n",
    "    def insert_at_beginning(self, e):\n",
    "        new_node = Node(e, None)\n",
    "        if self.size == 0:\n",
    "            self.head = new_node\n",
    "            self.tail = new_node\n",
    "        else:\n",
    "            new_node.next = self.head\n",
    "            self.head = new_node\n",
    "        self.size += 1\n",
    "\n",
    "    def insert_position(self, e, position):\n",
    "        new_node = Node(e, None)\n",
    "        if self.size == 0:\n",
    "            self.head = new_node\n",
    "            self.tail = new_node\n",
    "        else:\n",
    "            p = self.head\n",
    "            i = 1\n",
    "\n",
    "            while i < position - 1:\n",
    "                p = p.next\n",
    "                i += 1\n",
    "            new_node.next = p.next\n",
    "            p.next = new_node\n",
    "            self.size += 1\n",
    "\n",
    "\n",
    "L = InsertLinkedList()\n",
    "L.addlast(5)\n",
    "L.addlast(2)\n",
    "L.addlast(10)\n",
    "L.addlast(15)\n",
    "L.addlast(20)\n",
    "L.addlast(24)\n",
    "L.addlast(12)\n",
    "L.addlast(56)\n",
    "L.addlast(45)\n",
    "L.addlast(67)\n",
    "L.addlast(13)\n",
    "L.addlast(11)\n",
    "L.insert_at_beginning(100)\n",
    "L.insert_position(300, 11)\n",
    "L.display()\n",
    "print(L.search(100))\n",
    "print(L.search(15))\n",
    "print(L.size)"
   ]
  },
  {
   "attachments": {},
   "cell_type": "markdown",
   "metadata": {},
   "source": [
    "#### Deleting elements in Linked List"
   ]
  },
  {
   "cell_type": "code",
   "execution_count": 126,
   "metadata": {},
   "outputs": [
    {
     "name": "stdout",
     "output_type": "stream",
     "text": [
      "10 --> 30 --> 50 --> 100--> NULL \n"
     ]
    }
   ],
   "source": [
    "class DeleteLinked(LinkedList):\n",
    "    def __init__(self):\n",
    "        super().__init__()\n",
    "\n",
    "    def remove_first(self):\n",
    "        if self.size == 0:\n",
    "            return f\"Linked List is empty\"\n",
    "        \n",
    "        e = self.head.val\n",
    "        self.head = self.head.next\n",
    "        self.size -= 1\n",
    "\n",
    "        if self.size == 0:\n",
    "            self.tail = None\n",
    "        \n",
    "        return e\n",
    "\n",
    "    def remove_last(self):\n",
    "        if self.size == 0:\n",
    "            return f\"Linked List is empty\"\n",
    "\n",
    "        p = self.head\n",
    "        i = 1\n",
    "\n",
    "        while i < self.size - 1:\n",
    "            p = p.next\n",
    "            i += 1\n",
    "\n",
    "        self.tail = p\n",
    "        p = p.next\n",
    "        e = p.val\n",
    "        self.tail.next = None\n",
    "        self.size -= 1\n",
    "        return e\n",
    "\n",
    "\n",
    "L = DeleteLinked()\n",
    "L.addlast(10)\n",
    "L.addlast(30)\n",
    "L.addlast(50)\n",
    "L.addlast(100)\n",
    "L.display()\n"
   ]
  },
  {
   "cell_type": "code",
   "execution_count": 127,
   "metadata": {},
   "outputs": [
    {
     "name": "stdout",
     "output_type": "stream",
     "text": [
      "10 --> 30 --> 50--> NULL \n"
     ]
    }
   ],
   "source": [
    "L.remove_last()\n",
    "L.display()"
   ]
  }
 ],
 "metadata": {
  "kernelspec": {
   "display_name": "Python 3",
   "language": "python",
   "name": "python3"
  },
  "language_info": {
   "codemirror_mode": {
    "name": "ipython",
    "version": 3
   },
   "file_extension": ".py",
   "mimetype": "text/x-python",
   "name": "python",
   "nbconvert_exporter": "python",
   "pygments_lexer": "ipython3",
   "version": "3.8.4"
  },
  "orig_nbformat": 4,
  "vscode": {
   "interpreter": {
    "hash": "9650cb4e16cdd4a8e8e2d128bf38d875813998db22a3c986335f89e0cb4d7bb2"
   }
  }
 },
 "nbformat": 4,
 "nbformat_minor": 2
}
