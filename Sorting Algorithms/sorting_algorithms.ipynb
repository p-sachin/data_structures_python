{
 "cells": [
  {
   "attachments": {},
   "cell_type": "markdown",
   "metadata": {},
   "source": [
    "### Sorting Algorithms\n",
    "\n",
    "Stable Sort: Sorting is done preserving the original relative ordering of the duplicate elements.\n",
    "\n",
    "Unstable Sort: Sorting is done without preserving the original relative ordering of the duplicate elements."
   ]
  },
  {
   "attachments": {},
   "cell_type": "markdown",
   "metadata": {},
   "source": [
    "#### Selection Sort"
   ]
  },
  {
   "cell_type": "code",
   "execution_count": 11,
   "metadata": {},
   "outputs": [
    {
     "data": {
      "text/plain": [
       "[11, 12, 22, 25, 64]"
      ]
     },
     "execution_count": 11,
     "metadata": {},
     "output_type": "execute_result"
    }
   ],
   "source": [
    "# Select minimum element from the collection\n",
    "# Place selected element in appropriate position\n",
    "# Apply this technique on all the remaining elements\n",
    "def selection_sort(A):\n",
    "    n = len(A)\n",
    "\n",
    "    for i in range(n-1):\n",
    "        position = i\n",
    "        for j in range(i+1, n):\n",
    "            if A[j] < A[position]:\n",
    "                position = j\n",
    "        temp = A[i]\n",
    "        A[i] = A[position]\n",
    "        A[position] = temp\n",
    "\n",
    "    return A\n",
    "\n",
    "selection_sort([64,25,12,22,11])\n",
    "\n",
    "# Time Complexity of Selection Sort: O(n^2). (Unstable Sorting)"
   ]
  },
  {
   "attachments": {},
   "cell_type": "markdown",
   "metadata": {},
   "source": [
    "#### Insertion Sort"
   ]
  },
  {
   "cell_type": "code",
   "execution_count": 13,
   "metadata": {},
   "outputs": [
    {
     "data": {
      "text/plain": [
       "[11, 12, 22, 25, 64]"
      ]
     },
     "execution_count": 13,
     "metadata": {},
     "output_type": "execute_result"
    }
   ],
   "source": [
    "# Select one element at a time from the left of the array\n",
    "# Insert the element at proper position\n",
    "# After insertion every element to left will be sorted\n",
    "def insertion_sort(A):\n",
    "    n = len(A)\n",
    "\n",
    "    for i in range(1, n):\n",
    "        cvalue = A[i]\n",
    "        position = i\n",
    "\n",
    "        while position > 0 and A[position-1] > cvalue:\n",
    "            A[position] = A[position-1]\n",
    "            position = position - 1\n",
    "\n",
    "        A[position] = cvalue\n",
    "\n",
    "    return A\n",
    "\n",
    "insertion_sort([64,25,12,22,11])\n",
    "\n",
    "# Time complexity of Selection Sort: O(n^2). (Stable Sorting)"
   ]
  },
  {
   "attachments": {},
   "cell_type": "markdown",
   "metadata": {},
   "source": [
    "#### Bubble Sort"
   ]
  },
  {
   "cell_type": "code",
   "execution_count": 14,
   "metadata": {},
   "outputs": [
    {
     "data": {
      "text/plain": [
       "[1, 2, 4, 8, 12, 23, 45, 67]"
      ]
     },
     "execution_count": 14,
     "metadata": {},
     "output_type": "execute_result"
    }
   ],
   "source": [
    "# Compare the consecutive elements\n",
    "# if left element is greater than the right element, swap them \n",
    "# continue till the end of the array and perform several passes to sort the elements\n",
    "def bubble_sort(A):\n",
    "    n = len(A)\n",
    "    for i in range(n-1,0,-1):\n",
    "        for j in range(i):\n",
    "            if A[j] > A[j+1]:\n",
    "                temp = A[j]\n",
    "                A[j] = A[j+1]\n",
    "                A[j+1] = temp\n",
    "    return A\n",
    "\n",
    "bubble_sort([45,12,67,23,4,2,1,8]) \n",
    "\n",
    "# Time complexity of Bubble Sort: O(n^2). (Stable Sorting)"
   ]
  },
  {
   "attachments": {},
   "cell_type": "markdown",
   "metadata": {},
   "source": [
    "#### Shell Sort"
   ]
  },
  {
   "cell_type": "code",
   "execution_count": null,
   "metadata": {},
   "outputs": [],
   "source": []
  }
 ],
 "metadata": {
  "kernelspec": {
   "display_name": "Python 3",
   "language": "python",
   "name": "python3"
  },
  "language_info": {
   "codemirror_mode": {
    "name": "ipython",
    "version": 3
   },
   "file_extension": ".py",
   "mimetype": "text/x-python",
   "name": "python",
   "nbconvert_exporter": "python",
   "pygments_lexer": "ipython3",
   "version": "3.8.4"
  },
  "orig_nbformat": 4,
  "vscode": {
   "interpreter": {
    "hash": "9650cb4e16cdd4a8e8e2d128bf38d875813998db22a3c986335f89e0cb4d7bb2"
   }
  }
 },
 "nbformat": 4,
 "nbformat_minor": 2
}
