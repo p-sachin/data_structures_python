{
 "cells": [
  {
   "attachments": {},
   "cell_type": "markdown",
   "metadata": {},
   "source": [
    "### Sorting Algorithms\n",
    "\n",
    "Stable Sort: Sorting is done preserving the original relative ordering of the duplicate elements.\n",
    "\n",
    "Unstable Sort: Sorting is done without preserving the original relative ordering of the duplicate elements."
   ]
  },
  {
   "attachments": {},
   "cell_type": "markdown",
   "metadata": {},
   "source": [
    "#### Selection Sort"
   ]
  },
  {
   "cell_type": "code",
   "execution_count": 11,
   "metadata": {},
   "outputs": [
    {
     "data": {
      "text/plain": [
       "[11, 12, 22, 25, 64]"
      ]
     },
     "execution_count": 11,
     "metadata": {},
     "output_type": "execute_result"
    }
   ],
   "source": [
    "# Select minimum element from the collection\n",
    "# Place selected element in appropriate position\n",
    "# Apply this technique on all the remaining elements\n",
    "def selection_sort(A):\n",
    "    n = len(A)\n",
    "    for i in range(n-1):\n",
    "        position = i\n",
    "        for j in range(i+1, n):\n",
    "            if A[j] < A[position]:\n",
    "                position = j\n",
    "        temp = A[i]\n",
    "        A[i] = A[position]\n",
    "        A[position] = temp\n",
    "    return A\n",
    "\n",
    "selection_sort([64,25,12,22,11])\n",
    "\n",
    "# Time Complexity of Selection Sort: O(n^2). (Unstable Sorting)"
   ]
  },
  {
   "attachments": {},
   "cell_type": "markdown",
   "metadata": {},
   "source": [
    "#### Insertion Sort"
   ]
  },
  {
   "cell_type": "code",
   "execution_count": 13,
   "metadata": {},
   "outputs": [
    {
     "data": {
      "text/plain": [
       "[11, 12, 22, 25, 64]"
      ]
     },
     "execution_count": 13,
     "metadata": {},
     "output_type": "execute_result"
    }
   ],
   "source": [
    "# Select one element at a time from the left of the array\n",
    "# Insert the element at proper position\n",
    "# After insertion every element to left will be sorted\n",
    "def insertion_sort(A):\n",
    "    n = len(A)\n",
    "    for i in range(1, n):\n",
    "        cvalue = A[i]\n",
    "        position = i\n",
    "        while position > 0 and A[position-1] > cvalue:\n",
    "            A[position] = A[position-1]\n",
    "            position = position - 1\n",
    "        A[position] = cvalue\n",
    "    return A\n",
    "\n",
    "insertion_sort([64,25,12,22,11])\n",
    "\n",
    "# Time complexity of Selection Sort: O(n^2). (Stable Sorting)"
   ]
  },
  {
   "attachments": {},
   "cell_type": "markdown",
   "metadata": {},
   "source": [
    "#### Bubble Sort"
   ]
  },
  {
   "cell_type": "code",
   "execution_count": 14,
   "metadata": {},
   "outputs": [
    {
     "data": {
      "text/plain": [
       "[1, 2, 4, 8, 12, 23, 45, 67]"
      ]
     },
     "execution_count": 14,
     "metadata": {},
     "output_type": "execute_result"
    }
   ],
   "source": [
    "# Compare the consecutive elements\n",
    "# if left element is greater than the right element, swap them \n",
    "# continue till the end of the array and perform several passes to sort the elements\n",
    "def bubble_sort(A):\n",
    "    n = len(A)\n",
    "    for i in range(n-1,0,-1):\n",
    "        for j in range(i):\n",
    "            if A[j] > A[j+1]:\n",
    "                temp = A[j]\n",
    "                A[j] = A[j+1]\n",
    "                A[j+1] = temp\n",
    "    return A\n",
    "\n",
    "bubble_sort([45,12,67,23,4,2,1,8]) \n",
    "\n",
    "# Time complexity of Bubble Sort: O(n^2). (Stable Sorting)"
   ]
  },
  {
   "attachments": {},
   "cell_type": "markdown",
   "metadata": {},
   "source": [
    "#### Shell Sort"
   ]
  },
  {
   "cell_type": "code",
   "execution_count": 16,
   "metadata": {},
   "outputs": [
    {
     "data": {
      "text/plain": [
       "[1, 2, 4, 5, 6, 9, 9, 10, 15]"
      ]
     },
     "execution_count": 16,
     "metadata": {},
     "output_type": "execute_result"
    }
   ],
   "source": [
    "# Selects an element and compare element after a gap\n",
    "# Similar to insertion sort\n",
    "# Insert selected element from the gap at its proper position\n",
    "def shell_sort(A):\n",
    "    n = len(A)\n",
    "    gap = n // 2\n",
    "    while gap > 0:\n",
    "        i = gap\n",
    "        while i < n:\n",
    "            temp = A[i]\n",
    "            j = i - gap\n",
    "            while j >=0 and A[j] > temp:\n",
    "                A[j+gap] = A[j]\n",
    "                j = j - gap\n",
    "            A[j+gap] = temp\n",
    "            i = i + 1\n",
    "        gap = gap // 2\n",
    "    return A\n",
    "\n",
    "shell_sort([2,1,4,6,9,15,5,9,10])\n",
    "\n",
    "# Time complexity of Shell Sort: O(nlogn)\n"
   ]
  },
  {
   "attachments": {},
   "cell_type": "markdown",
   "metadata": {},
   "source": [
    "#### Merge Sort"
   ]
  },
  {
   "cell_type": "code",
   "execution_count": 20,
   "metadata": {},
   "outputs": [
    {
     "data": {
      "text/plain": [
       "[2, 3, 5, 6, 8, 9]"
      ]
     },
     "execution_count": 20,
     "metadata": {},
     "output_type": "execute_result"
    }
   ],
   "source": [
    "# Divide the collection of elements into smaller subsets\n",
    "# Recursively sort the subsets\n",
    "# Combine or merge the result into a solution\n",
    "# Divide and Conquer Approach\n",
    "def merge_sort(A, left, right):\n",
    "    if left < right:\n",
    "        mid = (left + right) // 2\n",
    "        merge_sort(A, left, mid)\n",
    "        merge_sort(A, mid+1, right)\n",
    "        merge(A, left, mid, right)\n",
    "    return A\n",
    "\n",
    "\n",
    "def merge(A, left, mid, right):\n",
    "    i = left\n",
    "    j = mid + 1\n",
    "    k = left\n",
    "    B = [0] * (right+1)\n",
    "\n",
    "    while i <= mid and j <= right:\n",
    "        if A[i] < A[j]:\n",
    "            B[k] = A[i]\n",
    "            i = i + 1\n",
    "        else:\n",
    "            B[k] = A[j]\n",
    "            j = j + 1\n",
    "        k = k + 1\n",
    "    while i <= mid:\n",
    "        B[k] = A[i]\n",
    "        i = i + 1\n",
    "        k = k + 1\n",
    "    while j <= right:\n",
    "        B[k] = A[j]\n",
    "        j = j + 1\n",
    "        k = k + 1\n",
    "    \n",
    "    for x in range(left, right+1):\n",
    "        A[x] = B[x]\n",
    "\n",
    "\n",
    "A = [3,5,8,6,9,2]\n",
    "merge_sort(A, 0, len(A)-1)\n",
    "\n",
    "# Time Complexity of Merge Sort: O(nlogn)"
   ]
  }
 ],
 "metadata": {
  "kernelspec": {
   "display_name": "Python 3",
   "language": "python",
   "name": "python3"
  },
  "language_info": {
   "codemirror_mode": {
    "name": "ipython",
    "version": 3
   },
   "file_extension": ".py",
   "mimetype": "text/x-python",
   "name": "python",
   "nbconvert_exporter": "python",
   "pygments_lexer": "ipython3",
   "version": "3.8.4"
  },
  "orig_nbformat": 4,
  "vscode": {
   "interpreter": {
    "hash": "9650cb4e16cdd4a8e8e2d128bf38d875813998db22a3c986335f89e0cb4d7bb2"
   }
  }
 },
 "nbformat": 4,
 "nbformat_minor": 2
}
