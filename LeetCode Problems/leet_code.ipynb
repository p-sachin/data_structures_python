{
 "cells": [
  {
   "attachments": {},
   "cell_type": "markdown",
   "metadata": {},
   "source": [
    "Given the array nums, for each nums[i] find out how many numbers in the array are smaller than it. That is, for each nums[i] you have to count the number of valid j's such that j != i and nums[j] < nums[i].\n",
    "\n",
    "Return the answer in an array."
   ]
  },
  {
   "cell_type": "code",
   "execution_count": 12,
   "metadata": {},
   "outputs": [
    {
     "data": {
      "text/plain": [
       "[]"
      ]
     },
     "execution_count": 12,
     "metadata": {},
     "output_type": "execute_result"
    }
   ],
   "source": [
    "# Input: nums = [8,1,2,2,3]\n",
    "# Output: [4,0,1,1,3]\n",
    "\n",
    "nums = []\n",
    "def smallerNumbersThanCurrent(nums):\n",
    "    size = len(nums)\n",
    "    i=j=0\n",
    "    count = 0\n",
    "    arr = []\n",
    "    while i < size:\n",
    "        while j < size:\n",
    "            if nums[j] != nums[i] and nums[j] < nums[i]:\n",
    "                count = count + 1\n",
    "                j = j + 1\n",
    "            else:\n",
    "                j = j + 1\n",
    "        arr.append(count)\n",
    "        count = 0\n",
    "        j=0\n",
    "        i+=1\n",
    "    return arr\n",
    "\n",
    "\n",
    "smallerNumbersThanCurrent(nums)"
   ]
  },
  {
   "cell_type": "code",
   "execution_count": 74,
   "metadata": {},
   "outputs": [
    {
     "name": "stdout",
     "output_type": "stream",
     "text": [
      "This is a sentence\n"
     ]
    }
   ],
   "source": [
    "my_token = {}\n",
    "sentence = \"is2 sentence4 This1 a3\"\n",
    "sentence = sentence.split(' ')\n",
    "for tokens in sentence:\n",
    "    my_token[tokens[-1]] = tokens[:-1]\n",
    "my_token = {k : my_token[k] for k in sorted(my_token)}\n",
    "\n",
    "print(' '.join(my_token.values()))"
   ]
  },
  {
   "cell_type": "code",
   "execution_count": 163,
   "metadata": {},
   "outputs": [],
   "source": [
    "names = [\"Alice\",\"Bob\",\"Bob\"]\n",
    "heights = [180,165,170]\n",
    "\n",
    "my_list = []\n",
    "\n",
    "for i, j in zip(names, heights):\n",
    "    my_list.append((i, j))\n",
    "\n",
    "my_list.sort(key=lambda a: a[1], reverse=True)\n"
   ]
  },
  {
   "cell_type": "code",
   "execution_count": 164,
   "metadata": {},
   "outputs": [
    {
     "data": {
      "text/plain": [
       "[('Alice', 180), ('Bob', 170), ('Bob', 165)]"
      ]
     },
     "execution_count": 164,
     "metadata": {},
     "output_type": "execute_result"
    }
   ],
   "source": [
    "my_list"
   ]
  },
  {
   "cell_type": "code",
   "execution_count": 168,
   "metadata": {},
   "outputs": [],
   "source": [
    "def findMedianSortedArrays(nums1, nums2):\n",
    "        len_num1 = len(nums1)\n",
    "        len_num2 = len(nums2)\n",
    "\n",
    "        merged_list = []\n",
    "        i=j=0\n",
    "\n",
    "        while i < len_num1 and j < len_num2:\n",
    "            if nums1[i] <= nums2[j]:\n",
    "                merged_list.append(nums1[i])\n",
    "                i+=1\n",
    "            else:\n",
    "                merged_list.append(nums2[j])\n",
    "                j+=1\n",
    "\n",
    "        while i < len_num1:\n",
    "            merged_list.append(nums1[i])\n",
    "            i+=1\n",
    "\n",
    "        while j < len_num2:\n",
    "            merged_list.append(nums2[j])\n",
    "            j+=1\n",
    "\n",
    "        mid = len(merged_list) // 2\n",
    "\n",
    "        if len(merged_list) % 2 == 0:\n",
    "            return(sum(merged_list[mid-1:mid+1])/2)\n",
    "        else:\n",
    "            return merged_list[mid]\n",
    "        "
   ]
  },
  {
   "cell_type": "code",
   "execution_count": 169,
   "metadata": {},
   "outputs": [
    {
     "data": {
      "text/plain": [
       "3.5"
      ]
     },
     "execution_count": 169,
     "metadata": {},
     "output_type": "execute_result"
    }
   ],
   "source": [
    "findMedianSortedArrays([1,2,3], [4,5,6])"
   ]
  },
  {
   "cell_type": "code",
   "execution_count": 5,
   "metadata": {},
   "outputs": [
    {
     "data": {
      "text/plain": [
       "3"
      ]
     },
     "execution_count": 5,
     "metadata": {},
     "output_type": "execute_result"
    }
   ],
   "source": [
    "jewels = 'aA'\n",
    "stones = 'aAAbbbb'\n",
    "\n",
    "def checkjewels(jewels, stones):\n",
    "    count = 0\n",
    "    for i in jewels:\n",
    "        count += stones.count(i)\n",
    "\n",
    "    return count\n",
    "\n",
    "\n",
    "\n",
    "checkjewels(jewels, stones)\n",
    "\n"
   ]
  },
  {
   "cell_type": "code",
   "execution_count": 8,
   "metadata": {},
   "outputs": [
    {
     "data": {
      "text/plain": [
       "3"
      ]
     },
     "execution_count": 8,
     "metadata": {},
     "output_type": "execute_result"
    }
   ],
   "source": [
    "sentences = [\"please wait\", \"continue to fight\", \"continue to win\"]\n",
    "# Output: 3\n",
    "\n",
    "my_dict = {}\n",
    "\n",
    "\n",
    "for idx, values in enumerate(sentences):\n",
    "    my_dict[idx] = len(values.split( ' '))\n",
    "\n",
    "max(my_dict.values())\n"
   ]
  },
  {
   "cell_type": "code",
   "execution_count": 14,
   "metadata": {},
   "outputs": [],
   "source": [
    "s = \"codeleet\"\n",
    "indices = [4,5,6,7,0,2,1,3]\n",
    "#Output: \"leetcode\""
   ]
  },
  {
   "cell_type": "code",
   "execution_count": 20,
   "metadata": {},
   "outputs": [
    {
     "data": {
      "text/plain": [
       "'leetcdoe'"
      ]
     },
     "execution_count": 20,
     "metadata": {},
     "output_type": "execute_result"
    }
   ],
   "source": [
    "def stringsh(s, indices):\n",
    "    res = ''\n",
    "    for i in indices:\n",
    "        res += s[i]\n",
    "    \n",
    "    return res\n",
    "    \n",
    "stringsh(s, indices)"
   ]
  },
  {
   "cell_type": "code",
   "execution_count": 32,
   "metadata": {},
   "outputs": [],
   "source": [
    "s = \"Hello how are you contenstant?\"\n",
    "k = 4\n",
    "\n",
    "def trun(s, k):\n",
    "    return ' '.join(s.split(' ')[:k])"
   ]
  },
  {
   "cell_type": "code",
   "execution_count": 33,
   "metadata": {},
   "outputs": [
    {
     "data": {
      "text/plain": [
       "'Hello how are you'"
      ]
     },
     "execution_count": 33,
     "metadata": {},
     "output_type": "execute_result"
    }
   ],
   "source": [
    "trun(s, k)"
   ]
  },
  {
   "cell_type": "code",
   "execution_count": 40,
   "metadata": {},
   "outputs": [
    {
     "data": {
      "text/plain": [
       "-1"
      ]
     },
     "execution_count": 40,
     "metadata": {},
     "output_type": "execute_result"
    }
   ],
   "source": [
    "a = 'abc'\n",
    "a.find('abbb')"
   ]
  },
  {
   "cell_type": "code",
   "execution_count": 67,
   "metadata": {},
   "outputs": [
    {
     "name": "stdout",
     "output_type": "stream",
     "text": [
      "4\n"
     ]
    }
   ],
   "source": [
    "allowed = \"ab\"\n",
    "words = [\"ad\",\"bd\",\"aaab\",\"baa\",\"badab\", 'd', 'a', 'b', 'c']\n",
    "\n",
    "for char in allowed:\n",
    "    words = [i.replace(char, '') for i in words]\n",
    "   \n",
    "print(words.count(''))"
   ]
  },
  {
   "cell_type": "code",
   "execution_count": 82,
   "metadata": {},
   "outputs": [],
   "source": [
    "s = \"Let's take LeetCode contest\"\n",
    "#Output: \"s'teL ekat edoCteeL tsetnoc\"\n",
    "\n",
    "s = ' '.join([i[::-1] for i in s.split()])"
   ]
  },
  {
   "cell_type": "code",
   "execution_count": 88,
   "metadata": {},
   "outputs": [],
   "source": [
    "rings = \"B0B6G0R6R0R6G9\"\n",
    "#Output: 1"
   ]
  },
  {
   "cell_type": "code",
   "execution_count": 150,
   "metadata": {},
   "outputs": [],
   "source": [
    "def countRings(rings):\n",
    "    ch = {}\n",
    "    rods = []\n",
    "    for i in range(0, len(rings)-1, 2):\n",
    "        key = rings[i+1]\n",
    "        if key not in ch:\n",
    "            ch[key] = []\n",
    "        ch[key].append(rings[i])\n",
    "\n",
    "    \n",
    "    for key, value in ch.items():\n",
    "        if 'B'in value and 'G' in value and 'R' in value:\n",
    "            rods.append(key)\n",
    "\n",
    "    return len(rods)\n",
    "            "
   ]
  },
  {
   "cell_type": "code",
   "execution_count": 153,
   "metadata": {},
   "outputs": [
    {
     "data": {
      "text/plain": [
       "1"
      ]
     },
     "execution_count": 153,
     "metadata": {},
     "output_type": "execute_result"
    }
   ],
   "source": [
    "countRings(rings)"
   ]
  },
  {
   "cell_type": "code",
   "execution_count": 191,
   "metadata": {},
   "outputs": [
    {
     "name": "stdout",
     "output_type": "stream",
     "text": [
      "this is a secret\n"
     ]
    }
   ],
   "source": [
    "hash_map = {}\n",
    "hash_map[' ']= ' '\n",
    "\n",
    "key = \"the quick brown fox jumps over the lazy dog\" \n",
    "message = \"vkbs bs t suepuv\"\n",
    "#Output: \"this is a secret\"\n",
    "alphabets = 'abcdefghijklmnopqrstuvwxyz'\n",
    "key = key.replace(' ', '')\n",
    "res = ''\n",
    "for i in key:\n",
    "    if i not in res:\n",
    "        res += i\n",
    "\n",
    "for i, j in zip(res, alphabets):\n",
    "    hash_map[i] = j\n",
    "\n",
    "\n",
    "final_decode = ''\n",
    "for k in message:\n",
    "    final_decode += hash_map[k]\n",
    "\n",
    "print(final_decode)\n",
    "\n"
   ]
  },
  {
   "cell_type": "code",
   "execution_count": 192,
   "metadata": {},
   "outputs": [
    {
     "data": {
      "text/plain": [
       "1"
      ]
     },
     "execution_count": 192,
     "metadata": {},
     "output_type": "execute_result"
    }
   ],
   "source": [
    "1 % 10"
   ]
  },
  {
   "attachments": {},
   "cell_type": "markdown",
   "metadata": {},
   "source": [
    "Design a HashSet without using any built-in hash table libraries.\n",
    "\n",
    "Implement MyHashSet class:\n",
    "\n",
    "void add(key) Inserts the value key into the HashSet.\n",
    "\n",
    "bool contains(key) Returns whether the value key exists in the HashSet or not.\n",
    "\n",
    "void remove(key) Removes the value key in the HashSet. If key does not exist in the HashSet, do nothing."
   ]
  },
  {
   "cell_type": "code",
   "execution_count": 193,
   "metadata": {},
   "outputs": [],
   "source": [
    "# [\"MyHashSet\", \"add\", \"add\", \"contains\", \"contains\", \"add\", \"contains\", \"remove\", \"contains\"]\n",
    "# [[], [1], [2], [1], [3], [2], [2], [2], [2]]\n",
    "# Output\n",
    "# [null, null, null, true, false, null, true, null, false]\n",
    "\n",
    "class HashSet:\n",
    "    def __init__(self):\n",
    "        self.MAX = 10\n",
    "        self.arr = [[] for i in range(self.MAX)]\n",
    "\n",
    "    def add(self, key):\n",
    "        self.arr.append(key)\n",
    "\n",
    "    "
   ]
  },
  {
   "cell_type": "code",
   "execution_count": 239,
   "metadata": {},
   "outputs": [],
   "source": [
    "\n",
    "words = [\"Hello\",\"Alaska\",\"Dad\",\"Peace\"]\n",
    "#Output: [\"Alaska\",\"Dad\"]"
   ]
  },
  {
   "cell_type": "code",
   "execution_count": 255,
   "metadata": {},
   "outputs": [
    {
     "data": {
      "text/plain": [
       "['Alaska', 'Dad']"
      ]
     },
     "execution_count": 255,
     "metadata": {},
     "output_type": "execute_result"
    }
   ],
   "source": [
    "def findWords(words):\n",
    "    american_keyboard = [set('qwertyuiop'), set('asdfghjkl'), set('zxcvbnm')]\n",
    "    res = []\n",
    "\n",
    "    for word in words:\n",
    "        letters = set(word.lower())\n",
    "        for row in american_keyboard:\n",
    "            if letters & row == letters:\n",
    "                res.append(word)\n",
    "\n",
    "    return res\n",
    "    \n",
    "findWords(words)"
   ]
  },
  {
   "cell_type": "code",
   "execution_count": 261,
   "metadata": {},
   "outputs": [],
   "source": [
    "words = [\"abc\",\"car\",\"ada\",\"racecar\",\"cool\"]\n",
    "\n",
    "def palind(words):\n",
    "    i = 0\n",
    "\n",
    "    while i < len(words):\n",
    "        if words[i] == words[i][::-1]:\n",
    "            return words[i]\n",
    "        else:\n",
    "            i+=1"
   ]
  },
  {
   "cell_type": "code",
   "execution_count": 262,
   "metadata": {},
   "outputs": [
    {
     "data": {
      "text/plain": [
       "'ada'"
      ]
     },
     "execution_count": 262,
     "metadata": {},
     "output_type": "execute_result"
    }
   ],
   "source": [
    "palind(words)"
   ]
  },
  {
   "cell_type": "code",
   "execution_count": 278,
   "metadata": {},
   "outputs": [],
   "source": [
    "arr = [\"d\",\"b\",\"c\",\"b\",\"c\",\"a\"]\n",
    "res = []\n",
    "for i in arr:\n",
    "    if arr.count(i) <= 1:\n",
    "        res.append(i)\n",
    "\n",
    "if len(res) < k:\n",
    "    print('')\n"
   ]
  },
  {
   "cell_type": "code",
   "execution_count": 303,
   "metadata": {},
   "outputs": [],
   "source": [
    "strs = [\"alic3\",\"bob\",\"3\",\"4\",\"00000\"]\n",
    "\n",
    "max_value = []\n",
    "for items in strs:\n",
    "    if items.isnumeric():\n",
    "        max_value.append(int(items, 10))\n",
    "    else:\n",
    "        max_value.append(len(items))\n",
    "\n",
    "        "
   ]
  },
  {
   "cell_type": "code",
   "execution_count": 2,
   "metadata": {},
   "outputs": [],
   "source": [
    "words = [\"pay\",\"sattention\",\"practice\",\"sattend\"]\n",
    "pref = \"at\"\n",
    "#Output: 2"
   ]
  },
  {
   "cell_type": "code",
   "execution_count": 3,
   "metadata": {},
   "outputs": [
    {
     "name": "stdout",
     "output_type": "stream",
     "text": [
      "0\n"
     ]
    }
   ],
   "source": [
    "count = 0\n",
    "for i in words:\n",
    "    if i.startswith(pref):\n",
    "        count += 1\n",
    "\n",
    "print(count)\n"
   ]
  },
  {
   "cell_type": "code",
   "execution_count": 111,
   "metadata": {},
   "outputs": [],
   "source": [
    "nums = [0,1,2,3,5]\n",
    "#Output: 2\n",
    "\n",
    "def missingNumer(nums):\n",
    "    # i = 1\n",
    "\n",
    "    # while i < len(nums)+1:\n",
    "    #     if i not in nums:\n",
    "    #         return i\n",
    "    #     else:\n",
    "    #         i+=1\n",
    "    # return 0\n",
    "    add = 0\n",
    "    for i in range(len(nums)+1):\n",
    "        add += i\n",
    "    return add - sum(nums)\n",
    "\n",
    "    \n",
    "        \n"
   ]
  },
  {
   "cell_type": "code",
   "execution_count": 112,
   "metadata": {},
   "outputs": [
    {
     "data": {
      "text/plain": [
       "4"
      ]
     },
     "execution_count": 112,
     "metadata": {},
     "output_type": "execute_result"
    }
   ],
   "source": [
    "missingNumer(nums)"
   ]
  },
  {
   "cell_type": "code",
   "execution_count": 117,
   "metadata": {},
   "outputs": [],
   "source": [
    "def JumpGame(nums):\n",
    "    i=1\n",
    "    while i < len(nums):\n",
    "        if nums[i] == 0:\n",
    "            return False\n",
    "\n",
    "        if i == len(nums)-1 or len(nums) == 1:\n",
    "            return True\n",
    "        else:\n",
    "            i+=nums[i]\n",
    "\n",
    "    return False"
   ]
  },
  {
   "cell_type": "code",
   "execution_count": 126,
   "metadata": {},
   "outputs": [
    {
     "data": {
      "text/plain": [
       "False"
      ]
     },
     "execution_count": 126,
     "metadata": {},
     "output_type": "execute_result"
    }
   ],
   "source": [
    "JumpGame([1])"
   ]
  },
  {
   "cell_type": "code",
   "execution_count": null,
   "metadata": {},
   "outputs": [],
   "source": []
  }
 ],
 "metadata": {
  "kernelspec": {
   "display_name": "Python 3",
   "language": "python",
   "name": "python3"
  },
  "language_info": {
   "codemirror_mode": {
    "name": "ipython",
    "version": 3
   },
   "file_extension": ".py",
   "mimetype": "text/x-python",
   "name": "python",
   "nbconvert_exporter": "python",
   "pygments_lexer": "ipython3",
   "version": "3.8.4"
  },
  "orig_nbformat": 4,
  "vscode": {
   "interpreter": {
    "hash": "9650cb4e16cdd4a8e8e2d128bf38d875813998db22a3c986335f89e0cb4d7bb2"
   }
  }
 },
 "nbformat": 4,
 "nbformat_minor": 2
}
