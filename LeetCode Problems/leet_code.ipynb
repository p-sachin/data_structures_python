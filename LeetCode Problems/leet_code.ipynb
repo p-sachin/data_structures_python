{
 "cells": [
  {
   "attachments": {},
   "cell_type": "markdown",
   "metadata": {},
   "source": [
    "Given the array nums, for each nums[i] find out how many numbers in the array are smaller than it. That is, for each nums[i] you have to count the number of valid j's such that j != i and nums[j] < nums[i].\n",
    "\n",
    "Return the answer in an array."
   ]
  },
  {
   "cell_type": "code",
   "execution_count": 12,
   "metadata": {},
   "outputs": [
    {
     "data": {
      "text/plain": [
       "[]"
      ]
     },
     "execution_count": 12,
     "metadata": {},
     "output_type": "execute_result"
    }
   ],
   "source": [
    "# Input: nums = [8,1,2,2,3]\n",
    "# Output: [4,0,1,1,3]\n",
    "\n",
    "nums = []\n",
    "def smallerNumbersThanCurrent(nums):\n",
    "    size = len(nums)\n",
    "    i=j=0\n",
    "    count = 0\n",
    "    arr = []\n",
    "    while i < size:\n",
    "        while j < size:\n",
    "            if nums[j] != nums[i] and nums[j] < nums[i]:\n",
    "                count = count + 1\n",
    "                j = j + 1\n",
    "            else:\n",
    "                j = j + 1\n",
    "        arr.append(count)\n",
    "        count = 0\n",
    "        j=0\n",
    "        i+=1\n",
    "    return arr\n",
    "\n",
    "\n",
    "smallerNumbersThanCurrent(nums)"
   ]
  },
  {
   "cell_type": "code",
   "execution_count": 74,
   "metadata": {},
   "outputs": [
    {
     "name": "stdout",
     "output_type": "stream",
     "text": [
      "This is a sentence\n"
     ]
    }
   ],
   "source": [
    "my_token = {}\n",
    "sentence = \"is2 sentence4 This1 a3\"\n",
    "sentence = sentence.split(' ')\n",
    "for tokens in sentence:\n",
    "    my_token[tokens[-1]] = tokens[:-1]\n",
    "my_token = {k : my_token[k] for k in sorted(my_token)}\n",
    "\n",
    "print(' '.join(my_token.values()))"
   ]
  },
  {
   "cell_type": "code",
   "execution_count": 163,
   "metadata": {},
   "outputs": [],
   "source": [
    "names = [\"Alice\",\"Bob\",\"Bob\"]\n",
    "heights = [180,165,170]\n",
    "\n",
    "my_list = []\n",
    "\n",
    "for i, j in zip(names, heights):\n",
    "    my_list.append((i, j))\n",
    "\n",
    "my_list.sort(key=lambda a: a[1], reverse=True)\n"
   ]
  },
  {
   "cell_type": "code",
   "execution_count": 164,
   "metadata": {},
   "outputs": [
    {
     "data": {
      "text/plain": [
       "[('Alice', 180), ('Bob', 170), ('Bob', 165)]"
      ]
     },
     "execution_count": 164,
     "metadata": {},
     "output_type": "execute_result"
    }
   ],
   "source": [
    "my_list"
   ]
  },
  {
   "cell_type": "code",
   "execution_count": 168,
   "metadata": {},
   "outputs": [],
   "source": [
    "def findMedianSortedArrays(nums1, nums2):\n",
    "        len_num1 = len(nums1)\n",
    "        len_num2 = len(nums2)\n",
    "\n",
    "        merged_list = []\n",
    "        i=j=0\n",
    "\n",
    "        while i < len_num1 and j < len_num2:\n",
    "            if nums1[i] <= nums2[j]:\n",
    "                merged_list.append(nums1[i])\n",
    "                i+=1\n",
    "            else:\n",
    "                merged_list.append(nums2[j])\n",
    "                j+=1\n",
    "\n",
    "        while i < len_num1:\n",
    "            merged_list.append(nums1[i])\n",
    "            i+=1\n",
    "\n",
    "        while j < len_num2:\n",
    "            merged_list.append(nums2[j])\n",
    "            j+=1\n",
    "\n",
    "        mid = len(merged_list) // 2\n",
    "\n",
    "        if len(merged_list) % 2 == 0:\n",
    "            return(sum(merged_list[mid-1:mid+1])/2)\n",
    "        else:\n",
    "            return merged_list[mid]\n",
    "        "
   ]
  },
  {
   "cell_type": "code",
   "execution_count": 169,
   "metadata": {},
   "outputs": [
    {
     "data": {
      "text/plain": [
       "3.5"
      ]
     },
     "execution_count": 169,
     "metadata": {},
     "output_type": "execute_result"
    }
   ],
   "source": [
    "findMedianSortedArrays([1,2,3], [4,5,6])"
   ]
  },
  {
   "cell_type": "code",
   "execution_count": 5,
   "metadata": {},
   "outputs": [
    {
     "data": {
      "text/plain": [
       "3"
      ]
     },
     "execution_count": 5,
     "metadata": {},
     "output_type": "execute_result"
    }
   ],
   "source": [
    "jewels = 'aA'\n",
    "stones = 'aAAbbbb'\n",
    "\n",
    "def checkjewels(jewels, stones):\n",
    "    count = 0\n",
    "    for i in jewels:\n",
    "        count += stones.count(i)\n",
    "\n",
    "    return count\n",
    "\n",
    "\n",
    "\n",
    "checkjewels(jewels, stones)\n",
    "\n"
   ]
  },
  {
   "cell_type": "code",
   "execution_count": 8,
   "metadata": {},
   "outputs": [
    {
     "data": {
      "text/plain": [
       "3"
      ]
     },
     "execution_count": 8,
     "metadata": {},
     "output_type": "execute_result"
    }
   ],
   "source": [
    "sentences = [\"please wait\", \"continue to fight\", \"continue to win\"]\n",
    "# Output: 3\n",
    "\n",
    "my_dict = {}\n",
    "\n",
    "\n",
    "for idx, values in enumerate(sentences):\n",
    "    my_dict[idx] = len(values.split( ' '))\n",
    "\n",
    "max(my_dict.values())\n"
   ]
  },
  {
   "cell_type": "code",
   "execution_count": 14,
   "metadata": {},
   "outputs": [],
   "source": [
    "s = \"codeleet\"\n",
    "indices = [4,5,6,7,0,2,1,3]\n",
    "#Output: \"leetcode\""
   ]
  },
  {
   "cell_type": "code",
   "execution_count": 20,
   "metadata": {},
   "outputs": [
    {
     "data": {
      "text/plain": [
       "'leetcdoe'"
      ]
     },
     "execution_count": 20,
     "metadata": {},
     "output_type": "execute_result"
    }
   ],
   "source": [
    "def stringsh(s, indices):\n",
    "    res = ''\n",
    "    for i in indices:\n",
    "        res += s[i]\n",
    "    \n",
    "    return res\n",
    "    \n",
    "stringsh(s, indices)"
   ]
  },
  {
   "cell_type": "code",
   "execution_count": 32,
   "metadata": {},
   "outputs": [],
   "source": [
    "s = \"Hello how are you contenstant?\"\n",
    "k = 4\n",
    "\n",
    "def trun(s, k):\n",
    "    return ' '.join(s.split(' ')[:k])"
   ]
  },
  {
   "cell_type": "code",
   "execution_count": 33,
   "metadata": {},
   "outputs": [
    {
     "data": {
      "text/plain": [
       "'Hello how are you'"
      ]
     },
     "execution_count": 33,
     "metadata": {},
     "output_type": "execute_result"
    }
   ],
   "source": [
    "trun(s, k)"
   ]
  },
  {
   "cell_type": "code",
   "execution_count": 40,
   "metadata": {},
   "outputs": [
    {
     "data": {
      "text/plain": [
       "-1"
      ]
     },
     "execution_count": 40,
     "metadata": {},
     "output_type": "execute_result"
    }
   ],
   "source": [
    "a = 'abc'\n",
    "a.find('abbb')"
   ]
  },
  {
   "cell_type": "code",
   "execution_count": 67,
   "metadata": {},
   "outputs": [
    {
     "name": "stdout",
     "output_type": "stream",
     "text": [
      "4\n"
     ]
    }
   ],
   "source": [
    "allowed = \"ab\"\n",
    "words = [\"ad\",\"bd\",\"aaab\",\"baa\",\"badab\", 'd', 'a', 'b', 'c']\n",
    "\n",
    "for char in allowed:\n",
    "    words = [i.replace(char, '') for i in words]\n",
    "   \n",
    "print(words.count(''))"
   ]
  },
  {
   "cell_type": "code",
   "execution_count": 82,
   "metadata": {},
   "outputs": [],
   "source": [
    "s = \"Let's take LeetCode contest\"\n",
    "#Output: \"s'teL ekat edoCteeL tsetnoc\"\n",
    "\n",
    "s = ' '.join([i[::-1] for i in s.split()])"
   ]
  },
  {
   "cell_type": "code",
   "execution_count": 88,
   "metadata": {},
   "outputs": [],
   "source": [
    "rings = \"B0B6G0R6R0R6G9\"\n",
    "#Output: 1"
   ]
  },
  {
   "cell_type": "code",
   "execution_count": 150,
   "metadata": {},
   "outputs": [],
   "source": [
    "def countRings(rings):\n",
    "    ch = {}\n",
    "    rods = []\n",
    "    for i in range(0, len(rings)-1, 2):\n",
    "        key = rings[i+1]\n",
    "        if key not in ch:\n",
    "            ch[key] = []\n",
    "        ch[key].append(rings[i])\n",
    "\n",
    "    \n",
    "    for key, value in ch.items():\n",
    "        if 'B'in value and 'G' in value and 'R' in value:\n",
    "            rods.append(key)\n",
    "\n",
    "    return len(rods)\n",
    "            "
   ]
  },
  {
   "cell_type": "code",
   "execution_count": 153,
   "metadata": {},
   "outputs": [
    {
     "data": {
      "text/plain": [
       "1"
      ]
     },
     "execution_count": 153,
     "metadata": {},
     "output_type": "execute_result"
    }
   ],
   "source": [
    "countRings(rings)"
   ]
  },
  {
   "cell_type": "code",
   "execution_count": 191,
   "metadata": {},
   "outputs": [
    {
     "name": "stdout",
     "output_type": "stream",
     "text": [
      "this is a secret\n"
     ]
    }
   ],
   "source": [
    "hash_map = {}\n",
    "hash_map[' ']= ' '\n",
    "\n",
    "key = \"the quick brown fox jumps over the lazy dog\" \n",
    "message = \"vkbs bs t suepuv\"\n",
    "#Output: \"this is a secret\"\n",
    "alphabets = 'abcdefghijklmnopqrstuvwxyz'\n",
    "key = key.replace(' ', '')\n",
    "res = ''\n",
    "for i in key:\n",
    "    if i not in res:\n",
    "        res += i\n",
    "\n",
    "for i, j in zip(res, alphabets):\n",
    "    hash_map[i] = j\n",
    "\n",
    "\n",
    "final_decode = ''\n",
    "for k in message:\n",
    "    final_decode += hash_map[k]\n",
    "\n",
    "print(final_decode)\n",
    "\n"
   ]
  },
  {
   "cell_type": "code",
   "execution_count": 192,
   "metadata": {},
   "outputs": [
    {
     "data": {
      "text/plain": [
       "1"
      ]
     },
     "execution_count": 192,
     "metadata": {},
     "output_type": "execute_result"
    }
   ],
   "source": [
    "1 % 10"
   ]
  },
  {
   "attachments": {},
   "cell_type": "markdown",
   "metadata": {},
   "source": [
    "Design a HashSet without using any built-in hash table libraries.\n",
    "\n",
    "Implement MyHashSet class:\n",
    "\n",
    "void add(key) Inserts the value key into the HashSet.\n",
    "\n",
    "bool contains(key) Returns whether the value key exists in the HashSet or not.\n",
    "\n",
    "void remove(key) Removes the value key in the HashSet. If key does not exist in the HashSet, do nothing."
   ]
  },
  {
   "cell_type": "code",
   "execution_count": 193,
   "metadata": {},
   "outputs": [],
   "source": [
    "# [\"MyHashSet\", \"add\", \"add\", \"contains\", \"contains\", \"add\", \"contains\", \"remove\", \"contains\"]\n",
    "# [[], [1], [2], [1], [3], [2], [2], [2], [2]]\n",
    "# Output\n",
    "# [null, null, null, true, false, null, true, null, false]\n",
    "\n",
    "class HashSet:\n",
    "    def __init__(self):\n",
    "        self.MAX = 10\n",
    "        self.arr = [[] for i in range(self.MAX)]\n",
    "\n",
    "    def add(self, key):\n",
    "        self.arr.append(key)\n",
    "\n",
    "    "
   ]
  },
  {
   "cell_type": "code",
   "execution_count": 239,
   "metadata": {},
   "outputs": [],
   "source": [
    "\n",
    "words = [\"Hello\",\"Alaska\",\"Dad\",\"Peace\"]\n",
    "#Output: [\"Alaska\",\"Dad\"]"
   ]
  },
  {
   "cell_type": "code",
   "execution_count": 255,
   "metadata": {},
   "outputs": [
    {
     "data": {
      "text/plain": [
       "['Alaska', 'Dad']"
      ]
     },
     "execution_count": 255,
     "metadata": {},
     "output_type": "execute_result"
    }
   ],
   "source": [
    "def findWords(words):\n",
    "    american_keyboard = [set('qwertyuiop'), set('asdfghjkl'), set('zxcvbnm')]\n",
    "    res = []\n",
    "\n",
    "    for word in words:\n",
    "        letters = set(word.lower())\n",
    "        for row in american_keyboard:\n",
    "            if letters & row == letters:\n",
    "                res.append(word)\n",
    "\n",
    "    return res\n",
    "    \n",
    "findWords(words)"
   ]
  },
  {
   "cell_type": "code",
   "execution_count": 261,
   "metadata": {},
   "outputs": [],
   "source": [
    "words = [\"abc\",\"car\",\"ada\",\"racecar\",\"cool\"]\n",
    "\n",
    "def palind(words):\n",
    "    i = 0\n",
    "\n",
    "    while i < len(words):\n",
    "        if words[i] == words[i][::-1]:\n",
    "            return words[i]\n",
    "        else:\n",
    "            i+=1"
   ]
  },
  {
   "cell_type": "code",
   "execution_count": 262,
   "metadata": {},
   "outputs": [
    {
     "data": {
      "text/plain": [
       "'ada'"
      ]
     },
     "execution_count": 262,
     "metadata": {},
     "output_type": "execute_result"
    }
   ],
   "source": [
    "palind(words)"
   ]
  },
  {
   "cell_type": "code",
   "execution_count": 278,
   "metadata": {},
   "outputs": [],
   "source": [
    "arr = [\"d\",\"b\",\"c\",\"b\",\"c\",\"a\"]\n",
    "res = []\n",
    "for i in arr:\n",
    "    if arr.count(i) <= 1:\n",
    "        res.append(i)\n",
    "\n",
    "if len(res) < k:\n",
    "    print('')\n"
   ]
  },
  {
   "cell_type": "code",
   "execution_count": 303,
   "metadata": {},
   "outputs": [],
   "source": [
    "strs = [\"alic3\",\"bob\",\"3\",\"4\",\"00000\"]\n",
    "\n",
    "max_value = []\n",
    "for items in strs:\n",
    "    if items.isnumeric():\n",
    "        max_value.append(int(items, 10))\n",
    "    else:\n",
    "        max_value.append(len(items))\n",
    "\n",
    "        "
   ]
  },
  {
   "cell_type": "code",
   "execution_count": 2,
   "metadata": {},
   "outputs": [],
   "source": [
    "words = [\"pay\",\"sattention\",\"practice\",\"sattend\"]\n",
    "pref = \"at\"\n",
    "#Output: 2"
   ]
  },
  {
   "cell_type": "code",
   "execution_count": 3,
   "metadata": {},
   "outputs": [
    {
     "name": "stdout",
     "output_type": "stream",
     "text": [
      "0\n"
     ]
    }
   ],
   "source": [
    "count = 0\n",
    "for i in words:\n",
    "    if i.startswith(pref):\n",
    "        count += 1\n",
    "\n",
    "print(count)\n"
   ]
  },
  {
   "cell_type": "code",
   "execution_count": 111,
   "metadata": {},
   "outputs": [],
   "source": [
    "nums = [0,1,2,3,5]\n",
    "#Output: 2\n",
    "\n",
    "def missingNumer(nums):\n",
    "    # i = 1\n",
    "\n",
    "    # while i < len(nums)+1:\n",
    "    #     if i not in nums:\n",
    "    #         return i\n",
    "    #     else:\n",
    "    #         i+=1\n",
    "    # return 0\n",
    "    add = 0\n",
    "    for i in range(len(nums)+1):\n",
    "        add += i\n",
    "    return add - sum(nums)\n",
    "\n",
    "    \n",
    "        \n"
   ]
  },
  {
   "cell_type": "code",
   "execution_count": 112,
   "metadata": {},
   "outputs": [
    {
     "data": {
      "text/plain": [
       "4"
      ]
     },
     "execution_count": 112,
     "metadata": {},
     "output_type": "execute_result"
    }
   ],
   "source": [
    "missingNumer(nums)"
   ]
  },
  {
   "cell_type": "code",
   "execution_count": 117,
   "metadata": {},
   "outputs": [],
   "source": [
    "def JumpGame(nums):\n",
    "    i=1\n",
    "    while i < len(nums):\n",
    "        if nums[i] == 0:\n",
    "            return False\n",
    "\n",
    "        if i == len(nums)-1 or len(nums) == 1:\n",
    "            return True\n",
    "        else:\n",
    "            i+=nums[i]\n",
    "\n",
    "    return False"
   ]
  },
  {
   "cell_type": "code",
   "execution_count": 126,
   "metadata": {},
   "outputs": [
    {
     "data": {
      "text/plain": [
       "False"
      ]
     },
     "execution_count": 126,
     "metadata": {},
     "output_type": "execute_result"
    }
   ],
   "source": [
    "JumpGame([1])"
   ]
  },
  {
   "cell_type": "code",
   "execution_count": 178,
   "metadata": {},
   "outputs": [],
   "source": [
    "list1 = [\"happy\",\"sad\",\"good\"]\n",
    "list2 = [\"sad\",\"happy\",\"good\"]\n",
    "#Output: [\"sad\",\"happy\"]\n",
    "#Output: [\"Shogun\"]\n",
    "# Explanation: The only common string is \"Shogun\".\n"
   ]
  },
  {
   "cell_type": "code",
   "execution_count": 179,
   "metadata": {},
   "outputs": [],
   "source": [
    "def findRest(list1, list2):\n",
    "    my_dict = {}\n",
    "    common_strings = list(set(list1).intersection(list2))\n",
    "    for items in common_strings:\n",
    "        my_dict[items] = list1.index(items) + list2.index(items)\n",
    "\n",
    "    return [key for key, value in my_dict.items() if value == min(my_dict.values())]"
   ]
  },
  {
   "cell_type": "code",
   "execution_count": 180,
   "metadata": {},
   "outputs": [
    {
     "data": {
      "text/plain": [
       "['happy', 'sad']"
      ]
     },
     "execution_count": 180,
     "metadata": {},
     "output_type": "execute_result"
    }
   ],
   "source": [
    "findRest(list1, list2)"
   ]
  },
  {
   "cell_type": "code",
   "execution_count": 220,
   "metadata": {},
   "outputs": [],
   "source": [
    "s = \"A1:F1\"\n",
    "# Output: [\"K1\",\"K2\",\"L1\",\"L2\"]\n",
    "start_col = ord(s[0])\n",
    "end_col = ord(s[3])\n",
    "start_row = int(s[1])\n",
    "end_row = int(s[4])"
   ]
  },
  {
   "cell_type": "code",
   "execution_count": 221,
   "metadata": {},
   "outputs": [
    {
     "data": {
      "text/plain": [
       "(65, 70, 1, 1)"
      ]
     },
     "execution_count": 221,
     "metadata": {},
     "output_type": "execute_result"
    }
   ],
   "source": [
    "(start_col, end_col, start_row, end_row)"
   ]
  },
  {
   "cell_type": "code",
   "execution_count": 222,
   "metadata": {},
   "outputs": [
    {
     "name": "stdout",
     "output_type": "stream",
     "text": [
      "['A1', 'B1', 'C1', 'D1', 'E1', 'F1']\n"
     ]
    }
   ],
   "source": [
    "print([f\"{chr(i)}{j}\" for i in range(start_col, end_col+1) for j in range(start_row, end_row+1)])"
   ]
  },
  {
   "cell_type": "code",
   "execution_count": 254,
   "metadata": {},
   "outputs": [],
   "source": [
    "patterns = [\"a\",\"abc\",\"bc\",\"d\"]\n",
    "word = \"abc\"\n",
    "\n",
    "\n",
    "def numOfStrings(patterns, word):\n",
    "    count = 0\n",
    "    for items in patterns:\n",
    "        if items in word:\n",
    "            count+=1\n",
    "        \n",
    "    return count"
   ]
  },
  {
   "cell_type": "code",
   "execution_count": 255,
   "metadata": {},
   "outputs": [
    {
     "data": {
      "text/plain": [
       "3"
      ]
     },
     "execution_count": 255,
     "metadata": {},
     "output_type": "execute_result"
    }
   ],
   "source": [
    "numOfStrings(patterns, word)"
   ]
  },
  {
   "cell_type": "code",
   "execution_count": 245,
   "metadata": {},
   "outputs": [
    {
     "data": {
      "text/plain": [
       "set()"
      ]
     },
     "execution_count": 245,
     "metadata": {},
     "output_type": "execute_result"
    }
   ],
   "source": [
    "set(word) & set(\"cjevwg\")"
   ]
  },
  {
   "cell_type": "code",
   "execution_count": 251,
   "metadata": {},
   "outputs": [
    {
     "data": {
      "text/plain": [
       "False"
      ]
     },
     "execution_count": 251,
     "metadata": {},
     "output_type": "execute_result"
    }
   ],
   "source": [
    "'cab' in 'gddfgab'"
   ]
  },
  {
   "cell_type": "code",
   "execution_count": 256,
   "metadata": {},
   "outputs": [],
   "source": [
    "s = \"textbook\"\n",
    "mid = len(s) // 2"
   ]
  },
  {
   "cell_type": "code",
   "execution_count": 260,
   "metadata": {},
   "outputs": [],
   "source": [
    "left = s[:mid]\n",
    "right = s[mid:]"
   ]
  },
  {
   "cell_type": "code",
   "execution_count": 270,
   "metadata": {},
   "outputs": [
    {
     "data": {
      "text/plain": [
       "'leh'"
      ]
     },
     "execution_count": 270,
     "metadata": {},
     "output_type": "execute_result"
    }
   ],
   "source": [
    "a = 'hello'\n",
    "a[2::-1]"
   ]
  },
  {
   "cell_type": "code",
   "execution_count": 323,
   "metadata": {},
   "outputs": [],
   "source": [
    "low = 0\n",
    "high = 10**9"
   ]
  },
  {
   "cell_type": "code",
   "execution_count": 324,
   "metadata": {},
   "outputs": [],
   "source": [
    "# def countOdds(low, high):\n",
    "#     count = 0\n",
    "#     if low % 2 == 0:\n",
    "#         for i in range(low+1, high+1, 2):\n",
    "#             count += 1\n",
    "#     else:\n",
    "#         for i in range(low, high+1, 2):\n",
    "#             count += 1\n",
    "    \n",
    "#     return count"
   ]
  },
  {
   "cell_type": "code",
   "execution_count": 394,
   "metadata": {},
   "outputs": [],
   "source": [
    "# Whether ransomeNote can be constructed from magazine or not!\n",
    "ransomNote = \"aabbccd\"\n",
    "magazine = \"aaabbbbbcccccddd\"\n",
    "\n",
    "def canConstruct(ransomNote, magazine):\n",
    "    my_hash = {}\n",
    "\n",
    "    for char in magazine:\n",
    "        if char in my_hash:\n",
    "            my_hash[char]+=1\n",
    "        else:\n",
    "            my_hash[char]=1\n",
    "\n",
    "    for letters in ransomNote:\n",
    "        if letters not in my_hash:\n",
    "            return False\n",
    "        my_hash[letters]-=1\n",
    "        if my_hash[letters] < 0:\n",
    "            return False\n",
    "    return True"
   ]
  },
  {
   "cell_type": "code",
   "execution_count": 395,
   "metadata": {},
   "outputs": [
    {
     "data": {
      "text/plain": [
       "True"
      ]
     },
     "execution_count": 395,
     "metadata": {},
     "output_type": "execute_result"
    }
   ],
   "source": [
    "canConstruct(ransomNote, magazine)"
   ]
  },
  {
   "cell_type": "code",
   "execution_count": 405,
   "metadata": {},
   "outputs": [
    {
     "data": {
      "text/plain": [
       "21"
      ]
     },
     "execution_count": 405,
     "metadata": {},
     "output_type": "execute_result"
    }
   ],
   "source": [
    "def subProductandSum(n):\n",
    "    add=0\n",
    "    prod=1\n",
    "    while n!=0:\n",
    "        rem = n%10\n",
    "        add += rem\n",
    "        prod *= rem\n",
    "        n=n//10\n",
    "    return prod - add\n",
    "\n",
    "\n",
    "\n",
    "subProductandSum(4421)\n"
   ]
  },
  {
   "cell_type": "code",
   "execution_count": 410,
   "metadata": {},
   "outputs": [],
   "source": [
    "def hammingWeight(n):\n",
    "    n = str(n)\n",
    "    my_dict = {}\n",
    "    for i in n:\n",
    "        if i in my_dict:\n",
    "            my_dict[i]+=1\n",
    "        else:\n",
    "            my_dict[i]=1\n",
    "\n",
    "    return my_dict['1']"
   ]
  },
  {
   "cell_type": "code",
   "execution_count": 411,
   "metadata": {},
   "outputs": [
    {
     "data": {
      "text/plain": [
       "3"
      ]
     },
     "execution_count": 411,
     "metadata": {},
     "output_type": "execute_result"
    }
   ],
   "source": [
    "hammingWeight('00000000000000000000000000001011')"
   ]
  },
  {
   "cell_type": "code",
   "execution_count": 487,
   "metadata": {},
   "outputs": [
    {
     "name": "stdout",
     "output_type": "stream",
     "text": [
      "-1\n"
     ]
    }
   ],
   "source": [
    "x = 3\n",
    "y = 4\n",
    "points = [[4,5]]\n",
    "\n",
    "valid_points = {}\n",
    "for idx, coordinates in enumerate(points):\n",
    "    if x == coordinates[0] or y == coordinates[1]:\n",
    "        distance = abs(x-coordinates[0]) + abs(y-coordinates[1])\n",
    "        valid_points[idx] = distance\n",
    "\n",
    "if not bool(valid_points):\n",
    "    print(\"-1\")\n",
    "\n",
    "for key, val in valid_points.items():\n",
    "    if val == min(valid_points.values()):\n",
    "        print(key)\n",
    "        break\n",
    "\n",
    "\n",
    "# for idx, val in enumerate(valid_points):\n",
    "#     if len(valid_points)==0:\n",
    "#         print(\"-dsd1\")\n",
    "#     elif len(valid_points)==1:\n",
    "#         print(val[1])\n",
    "#     elif val[1] == min(val[1]):\n",
    "#         print(val[0])"
   ]
  },
  {
   "cell_type": "code",
   "execution_count": 488,
   "metadata": {},
   "outputs": [],
   "source": [
    "def arraySign(nums):\n",
    "    product = 1\n",
    "    for i in nums:\n",
    "        if i == 0:\n",
    "            product=0\n",
    "            break\n",
    "        else:\n",
    "            product *= i\n",
    "    return product"
   ]
  },
  {
   "cell_type": "code",
   "execution_count": 490,
   "metadata": {},
   "outputs": [
    {
     "data": {
      "text/plain": [
       "144"
      ]
     },
     "execution_count": 490,
     "metadata": {},
     "output_type": "execute_result"
    }
   ],
   "source": [
    "arraySign([-1,-2,-3,-4,3,2,1])"
   ]
  },
  {
   "cell_type": "code",
   "execution_count": 495,
   "metadata": {},
   "outputs": [],
   "source": [
    "def isHappy(n):\n",
    "    if n < 10:\n",
    "        return False\n",
    "    add = 0\n",
    "    while n != 1:\n",
    "        rem = n % 10\n",
    "        add += rem**2\n",
    "        n = n // 10\n",
    "        if n < 10 and n!=1:\n",
    "            n = add\n",
    "    return True"
   ]
  },
  {
   "cell_type": "code",
   "execution_count": 500,
   "metadata": {},
   "outputs": [
    {
     "data": {
      "text/plain": [
       "True"
      ]
     },
     "execution_count": 500,
     "metadata": {},
     "output_type": "execute_result"
    }
   ],
   "source": [
    "isHappy(27)"
   ]
  },
  {
   "cell_type": "code",
   "execution_count": 1,
   "metadata": {},
   "outputs": [],
   "source": [
    "nums1 = [4,1,2]\n",
    "nums2 = [1,3,4,2]\n",
    "\n"
   ]
  },
  {
   "cell_type": "code",
   "execution_count": 22,
   "metadata": {},
   "outputs": [],
   "source": [
    "a = [ 1,0,2,0,3]\n",
    "a.remove(0)\n"
   ]
  },
  {
   "cell_type": "code",
   "execution_count": 24,
   "metadata": {},
   "outputs": [
    {
     "data": {
      "text/plain": [
       "[1, 2, 3]"
      ]
     },
     "execution_count": 24,
     "metadata": {},
     "output_type": "execute_result"
    }
   ],
   "source": [
    "[i for i in a if i!=0]"
   ]
  },
  {
   "cell_type": "code",
   "execution_count": 55,
   "metadata": {},
   "outputs": [],
   "source": [
    "def moveZeroes(nums):\n",
    "    \"\"\"\n",
    "    Do not return anything, modify nums in-place instead.\n",
    "    \"\"\"\n",
    "    return [i for i in nums if i!=0] + ([0] * nums.count(0))"
   ]
  },
  {
   "cell_type": "code",
   "execution_count": 56,
   "metadata": {},
   "outputs": [
    {
     "data": {
      "text/plain": [
       "[1, 3, 12, 0, 0]"
      ]
     },
     "execution_count": 56,
     "metadata": {},
     "output_type": "execute_result"
    }
   ],
   "source": [
    "nums = [0,1,0,3,12]\n",
    "moveZeroes(nums)\n"
   ]
  },
  {
   "cell_type": "code",
   "execution_count": 1,
   "metadata": {},
   "outputs": [],
   "source": [
    "# Input\n",
    "# [\"ParkingSystem\", \"addCar\", \"addCar\", \"addCar\", \"addCar\"]\n",
    "# [[1, 1, 0], [1], [2], [3], [1]]\n",
    "# Output\n",
    "# [null, true, true, false, false]\n",
    "\n",
    "# Explanation\n",
    "# ParkingSystem parkingSystem = new ParkingSystem(1, 1, 0);\n",
    "# parkingSystem.addCar(1); // return true because there is 1 available slot for a big car\n",
    "# parkingSystem.addCar(2); // return true because there is 1 available slot for a medium car\n",
    "# parkingSystem.addCar(3); // return false because there is no available slot for a small car\n",
    "# parkingSystem.addCar(1); // return false because there is no available slot for a big car. It is already occupied.\n",
    "\n",
    "class ParkingSystem:\n",
    "    def __init__(self, big, medium, small):\n",
    "        self.cars = {1: big, 2: medium, 3: small}\n",
    "\n",
    "    def addCar(self, carType):\n",
    "        if self.cars[carType] > 0:\n",
    "            self.cars[carType]-=1\n",
    "            return True\n",
    "        return False"
   ]
  },
  {
   "cell_type": "code",
   "execution_count": 113,
   "metadata": {},
   "outputs": [],
   "source": [
    "obj = ParkingSystem(3,1,0)"
   ]
  },
  {
   "cell_type": "code",
   "execution_count": 103,
   "metadata": {},
   "outputs": [],
   "source": [
    "nums = [1,2,1,10]\n",
    "\n",
    "def largestPerimeter(nums):\n",
    "    nums.sort()\n",
    "    for i in range(len(nums)-3, -1,-1):\n",
    "        if nums[i] + nums[i+1] > nums[i+2]:\n",
    "            return nums[i]+nums[i+1]+nums[i+2]\n",
    "    return 0\n"
   ]
  },
  {
   "cell_type": "code",
   "execution_count": 105,
   "metadata": {},
   "outputs": [
    {
     "data": {
      "text/plain": [
       "0"
      ]
     },
     "execution_count": 105,
     "metadata": {},
     "output_type": "execute_result"
    }
   ],
   "source": [
    "largestPerimeter(nums)"
   ]
  },
  {
   "cell_type": "code",
   "execution_count": 108,
   "metadata": {},
   "outputs": [
    {
     "data": {
      "text/plain": [
       "False"
      ]
     },
     "execution_count": 108,
     "metadata": {},
     "output_type": "execute_result"
    }
   ],
   "source": [
    "'fl' in ['flower']"
   ]
  },
  {
   "cell_type": "code",
   "execution_count": 22,
   "metadata": {},
   "outputs": [],
   "source": [
    "arr = [3,5,1,7,9]"
   ]
  },
  {
   "cell_type": "code",
   "execution_count": 23,
   "metadata": {},
   "outputs": [],
   "source": [
    "def arithProg(arr):\n",
    "    arr.sort()\n",
    "    print(arr)\n",
    "    c_d = arr[1] - arr[0]\n",
    "\n",
    "    for i in range(len(arr)-1):\n",
    "        print(i, arr[i])\n",
    "        if (arr[i+1] - arr[i]) != c_d:\n",
    "            return False\n",
    "    return True\n"
   ]
  },
  {
   "cell_type": "code",
   "execution_count": 24,
   "metadata": {},
   "outputs": [
    {
     "name": "stdout",
     "output_type": "stream",
     "text": [
      "[1, 3, 5, 7, 9]\n",
      "0 1\n",
      "1 3\n",
      "2 5\n",
      "3 7\n"
     ]
    },
    {
     "data": {
      "text/plain": [
       "True"
      ]
     },
     "execution_count": 24,
     "metadata": {},
     "output_type": "execute_result"
    }
   ],
   "source": [
    "arithProg(arr)"
   ]
  },
  {
   "cell_type": "code",
   "execution_count": 27,
   "metadata": {},
   "outputs": [],
   "source": [
    "def isHappy(num):\n",
    "    seen = set()\n",
    "    while num != 1:\n",
    "        num = sum(int(digit)**2 for digit in str(num))\n",
    "        if num in seen:\n",
    "            return False\n",
    "        seen.add(num)\n",
    "    return True"
   ]
  },
  {
   "cell_type": "code",
   "execution_count": 32,
   "metadata": {},
   "outputs": [
    {
     "data": {
      "text/plain": [
       "False"
      ]
     },
     "execution_count": 32,
     "metadata": {},
     "output_type": "execute_result"
    }
   ],
   "source": [
    "isHappy(25)"
   ]
  },
  {
   "cell_type": "code",
   "execution_count": 52,
   "metadata": {},
   "outputs": [],
   "source": [
    "s1='caa'\n",
    "s2='aaz'\n",
    "\n",
    "def sas(s1, s2):\n",
    "    index = []\n",
    "\n",
    "    for i in range(len(s1)):\n",
    "        if s1[i] != s2[i]:\n",
    "            index.append(i)\n",
    "    \n",
    "    if len(index) == 0:\n",
    "        return True\n",
    "\n",
    "    if len(index) > 2:\n",
    "        return False\n",
    "    elif len(index) < 2:\n",
    "        return ((s1[index[0]] == s2[index[0]]))\n",
    "    return True"
   ]
  },
  {
   "cell_type": "code",
   "execution_count": 53,
   "metadata": {},
   "outputs": [
    {
     "data": {
      "text/plain": [
       "True"
      ]
     },
     "execution_count": 53,
     "metadata": {},
     "output_type": "execute_result"
    }
   ],
   "source": [
    "sas(s1,s2)"
   ]
  },
  {
   "cell_type": "code",
   "execution_count": 50,
   "metadata": {},
   "outputs": [],
   "source": [
    "nums1 = [4,1,2]\n",
    "nums2 = [1,2,3,4]"
   ]
  },
  {
   "cell_type": "code",
   "execution_count": 76,
   "metadata": {},
   "outputs": [],
   "source": [
    "def nextGreaterElements(nums1, nums2):\n",
    "    nums1index = {v: i for i, v in enumerate(nums1)}\n",
    "    result = [-1] * len(nums1)\n",
    "    stack = []\n",
    "\n",
    "    for i in range(len(nums2)):\n",
    "        current = nums2[i]\n",
    "\n",
    "        while stack and current > stack[-1]:\n",
    "            val = stack.pop()\n",
    "            idx = nums1index[val]\n",
    "            result[idx] = current\n",
    "        if current in nums1index:\n",
    "            stack.append(current)\n",
    "\n",
    "    return result"
   ]
  },
  {
   "cell_type": "code",
   "execution_count": 77,
   "metadata": {},
   "outputs": [
    {
     "data": {
      "text/plain": [
       "[-1, 2, 3]"
      ]
     },
     "execution_count": 77,
     "metadata": {},
     "output_type": "execute_result"
    }
   ],
   "source": [
    "nextGreaterElements(nums1, nums2)"
   ]
  },
  {
   "cell_type": "code",
   "execution_count": 43,
   "metadata": {},
   "outputs": [],
   "source": [
    "patterns = \"abba\" \n",
    "s = \"dog cat cat fish\""
   ]
  },
  {
   "cell_type": "code",
   "execution_count": 44,
   "metadata": {},
   "outputs": [],
   "source": [
    "def wordPattern(patterns, s):\n",
    "    my_dict = {}\n",
    "    s = s.split(' ')\n",
    "    for i in range(len(patterns)):\n",
    "        if patterns[i] not in my_dict:\n",
    "            my_dict[patterns[i]] = s[i]\n",
    "\n",
    "    for i, j in enumerate(s):\n",
    "        if my_dict[patterns[i]] != j:\n",
    "            return False\n",
    "    return True"
   ]
  },
  {
   "cell_type": "code",
   "execution_count": 45,
   "metadata": {},
   "outputs": [
    {
     "data": {
      "text/plain": [
       "False"
      ]
     },
     "execution_count": 45,
     "metadata": {},
     "output_type": "execute_result"
    }
   ],
   "source": [
    "wordPattern(patterns, s)"
   ]
  },
  {
   "cell_type": "code",
   "execution_count": 1,
   "metadata": {},
   "outputs": [],
   "source": [
    "a = 2"
   ]
  },
  {
   "cell_type": "code",
   "execution_count": 16,
   "metadata": {},
   "outputs": [],
   "source": [
    "nums = [1,2,3,1,1,3]\n",
    "\n",
    "def CountPairs(nums):\n",
    "    my_dict = {}\n",
    "    for num in nums:\n",
    "        if num in my_dict:\n",
    "            my_dict[num]+=1\n",
    "        else:\n",
    "            my_dict[num]=1\n",
    "    count=0\n",
    "    for key in my_dict:\n",
    "        count += my_dict[key] * (my_dict[key]-1) // 2\n",
    "    return count"
   ]
  },
  {
   "cell_type": "code",
   "execution_count": 18,
   "metadata": {},
   "outputs": [
    {
     "data": {
      "text/plain": [
       "4"
      ]
     },
     "execution_count": 18,
     "metadata": {},
     "output_type": "execute_result"
    }
   ],
   "source": [
    "CountPairs(nums)"
   ]
  },
  {
   "cell_type": "code",
   "execution_count": 34,
   "metadata": {},
   "outputs": [],
   "source": [
    "items = [[\"phone\",\"blue\",\"pixel\"],[\"computer\",\"silver\",\"phone\"],[\"phone\",\"gold\",\"iphone\"]]\n",
    "ruleKey='type'\n",
    "ruleValue='phone'\n",
    "def countMatches(items, ruleKey, ruleValue):\n",
    "    count = 0\n",
    "    item_map = {\"type\": 0, \"color\": 1, \"name\": 2}\n",
    "    for idx, val in enumerate(items):\n",
    "        if items[idx][item_map[ruleKey]] == ruleValue:\n",
    "            count += 1\n",
    "    return count\n",
    "\n",
    "\n"
   ]
  },
  {
   "cell_type": "code",
   "execution_count": 35,
   "metadata": {},
   "outputs": [
    {
     "data": {
      "text/plain": [
       "2"
      ]
     },
     "execution_count": 35,
     "metadata": {},
     "output_type": "execute_result"
    }
   ],
   "source": [
    "countMatches(items, ruleKey, ruleValue)"
   ]
  },
  {
   "cell_type": "code",
   "execution_count": 59,
   "metadata": {},
   "outputs": [],
   "source": [
    "def uniqueMorse(words):\n",
    "    int_morse = {}\n",
    "    morse_code = [\".-\",\"-...\",\"-.-.\",\"-..\",\".\",\"..-.\",\"--.\",\"....\",\"..\",\".---\",\"-.-\",\".-..\",\"--\",\"-.\",\"---\",\".--.\",\"--.-\",\".-.\",\"...\",\"-\",\"..-\",\"...-\",\".--\",\"-..-\",\"-.--\",\"--..\"]\n",
    "    alphabets = 'abcdefghijklmnopqrstuvwxyz'\n",
    "    for i,j in zip(morse_code, alphabets):\n",
    "        int_morse[j] = i\n",
    "\n",
    "    res = []\n",
    "    s = \"\"\n",
    "    for word in words:\n",
    "        for char in word:\n",
    "            s += int_morse[char]\n",
    "        res.append(s)\n",
    "        s=\"\"\n",
    "    return len(set(res))"
   ]
  },
  {
   "cell_type": "code",
   "execution_count": 61,
   "metadata": {},
   "outputs": [
    {
     "data": {
      "text/plain": [
       "1"
      ]
     },
     "execution_count": 61,
     "metadata": {},
     "output_type": "execute_result"
    }
   ],
   "source": [
    "words = [\"a\"]\n",
    "uniqueMorse(words)"
   ]
  },
  {
   "cell_type": "code",
   "execution_count": 75,
   "metadata": {},
   "outputs": [],
   "source": [
    "nums = [1,1,2,3]\n",
    "#Output: [2,4,4,4]\n",
    "def decompressRLElist(nums):\n",
    "    res = []\n",
    "    for idx in range(len(nums)):\n",
    "        if idx % 2 == 0:\n",
    "            res += [nums[idx+1]] * nums[idx] \n",
    "    return res  "
   ]
  },
  {
   "cell_type": "code",
   "execution_count": 76,
   "metadata": {},
   "outputs": [
    {
     "data": {
      "text/plain": [
       "[1, 3, 3]"
      ]
     },
     "execution_count": 76,
     "metadata": {},
     "output_type": "execute_result"
    }
   ],
   "source": [
    "decompressRLElist(nums)"
   ]
  },
  {
   "cell_type": "code",
   "execution_count": 147,
   "metadata": {},
   "outputs": [],
   "source": [
    "grids = [[1,2,4], [3,3,1]]\n",
    "\n",
    "def deleteGreatestValue(grid):\n",
    "    sum_max = 0\n",
    "    while grid:\n",
    "        max_elements = []\n",
    "        for row in grid:\n",
    "            max_elements.append(max(row))\n",
    "            row.remove(max(row))\n",
    "        sum_max += max(max_elements)\n",
    "        grid = [row for row in grid if row]\n",
    "    return sum_max\n",
    "        \n",
    "\n"
   ]
  },
  {
   "cell_type": "code",
   "execution_count": 148,
   "metadata": {},
   "outputs": [
    {
     "data": {
      "text/plain": [
       "8"
      ]
     },
     "execution_count": 148,
     "metadata": {},
     "output_type": "execute_result"
    }
   ],
   "source": [
    "deleteGreatestValue(grids)"
   ]
  },
  {
   "cell_type": "code",
   "execution_count": 165,
   "metadata": {},
   "outputs": [],
   "source": [
    "nums= [1,2,2,1]\n",
    "k=1\n",
    "def countKDifference(nums, k):\n",
    "    visited = {}\n",
    "    count=0\n",
    "    for num in nums:\n",
    "        if num in visited:\n",
    "            visited[num] += 1\n",
    "        else:\n",
    "            visited[num] = 1\n",
    "    for i in visited:\n",
    "        if i+k in visited:\n",
    "            count+=visited[i]*visited[i+k]\n",
    "    return count\n",
    "        \n",
    "\n"
   ]
  },
  {
   "cell_type": "code",
   "execution_count": 167,
   "metadata": {},
   "outputs": [
    {
     "data": {
      "text/plain": [
       "4"
      ]
     },
     "execution_count": 167,
     "metadata": {},
     "output_type": "execute_result"
    }
   ],
   "source": [
    "countKDifference(nums, k)"
   ]
  },
  {
   "cell_type": "code",
   "execution_count": 180,
   "metadata": {},
   "outputs": [],
   "source": [
    "nums = [1,1,1,1]\n",
    "def maxProductDiff(nums):\n",
    "    nums.sort()\n",
    "    return abs((nums[0]*nums[1]) - (nums[-1]*nums[-2]))\n"
   ]
  },
  {
   "cell_type": "code",
   "execution_count": 181,
   "metadata": {},
   "outputs": [
    {
     "data": {
      "text/plain": [
       "0"
      ]
     },
     "execution_count": 181,
     "metadata": {},
     "output_type": "execute_result"
    }
   ],
   "source": [
    "maxProductDiff(nums)"
   ]
  },
  {
   "cell_type": "code",
   "execution_count": 256,
   "metadata": {},
   "outputs": [],
   "source": [
    "licensePlate='1s3 PSt'\n",
    "words = [\"step\",\"steps\",\"stripe\",\"stepple\"]\n",
    "shortest = float(\"inf\")\n",
    "result = \"\"\n",
    "def shortestCompletingWord(licensePlate, words):\n",
    "    lic_map = {}\n",
    "    #licensePlate = \"\".join(char.lower() for char in licensePlate if char.isalpha())\n",
    "    for char in licensePlate.lower():\n",
    "        if char.isalpha() and char in lic_map:\n",
    "            lic_map[char]+=1\n",
    "        elif char.isalpha() and char not in lic_map:\n",
    "            lic_map[char]=1\n",
    "\n",
    "        return lic_map"
   ]
  },
  {
   "cell_type": "code",
   "execution_count": 257,
   "metadata": {},
   "outputs": [
    {
     "data": {
      "text/plain": [
       "{}"
      ]
     },
     "execution_count": 257,
     "metadata": {},
     "output_type": "execute_result"
    }
   ],
   "source": [
    "shortestCompletingWord(licensePlate, words)"
   ]
  },
  {
   "cell_type": "code",
   "execution_count": 361,
   "metadata": {},
   "outputs": [],
   "source": [
    "arr = [17, 18, 5, 4, 6, 1]\n",
    "def replaceElement(arr):\n",
    "    rightMax = -1\n",
    "    for i in range(len(arr)-1, -1, -1):\n",
    "        new_max = max(rightMax, arr[i])\n",
    "        arr[i] = rightMax\n",
    "        rightMax = new_max\n",
    "    return arr"
   ]
  },
  {
   "cell_type": "code",
   "execution_count": 363,
   "metadata": {},
   "outputs": [
    {
     "data": {
      "text/plain": [
       "[6, 6, 6, 1, -1, -1]"
      ]
     },
     "execution_count": 363,
     "metadata": {},
     "output_type": "execute_result"
    }
   ],
   "source": [
    "replaceElement(arr)"
   ]
  },
  {
   "cell_type": "code",
   "execution_count": 392,
   "metadata": {},
   "outputs": [],
   "source": [
    "def pascalTriangle(num):\n",
    "    res = [[1]]\n",
    "    for i in range(num-1):\n",
    "        temp = [0] + res[-1] + [0]\n",
    "        row = []\n",
    "        for j in range(len(res)+1):\n",
    "            row.append(temp[j]+temp[j+1])\n",
    "        res.append(row)\n",
    "    return res    "
   ]
  },
  {
   "cell_type": "code",
   "execution_count": 394,
   "metadata": {},
   "outputs": [
    {
     "data": {
      "text/plain": [
       "[[1], [1, 1], [1, 2, 1], [1, 3, 3, 1], [1, 4, 6, 4, 1]]"
      ]
     },
     "execution_count": 394,
     "metadata": {},
     "output_type": "execute_result"
    }
   ],
   "source": [
    "num=5\n",
    "pascalTriangle(num)"
   ]
  },
  {
   "cell_type": "code",
   "execution_count": 395,
   "metadata": {},
   "outputs": [],
   "source": [
    "def validParent(s):\n",
    "    ParenthesesMap = {')': '(', '}': '{', ']': '['}\n",
    "    stack = []\n",
    "    for char in s:\n",
    "        if char in ParenthesesMap:\n",
    "            if stack and stack[-1] == ParenthesesMap[char]:\n",
    "                stack.pop()\n",
    "            else:\n",
    "                return False\n",
    "        else:\n",
    "            stack.append(char)\n",
    "    return True if not stack else False"
   ]
  },
  {
   "cell_type": "code",
   "execution_count": 402,
   "metadata": {},
   "outputs": [
    {
     "data": {
      "text/plain": [
       "False"
      ]
     },
     "execution_count": 402,
     "metadata": {},
     "output_type": "execute_result"
    }
   ],
   "source": [
    "validParent('(}())')"
   ]
  },
  {
   "cell_type": "code",
   "execution_count": 417,
   "metadata": {},
   "outputs": [
    {
     "data": {
      "text/plain": [
       "3"
      ]
     },
     "execution_count": 417,
     "metadata": {},
     "output_type": "execute_result"
    }
   ],
   "source": [
    "a = [1,2,3]\n",
    "sum(a[-3:-1])"
   ]
  },
  {
   "cell_type": "code",
   "execution_count": 19,
   "metadata": {},
   "outputs": [],
   "source": [
    "tokens = [\"4\",\"13\",\"5\",\"/\",\"+\"]\n",
    "def evalRPN(tokens):\n",
    "    stack = []\n",
    "    for token in tokens:\n",
    "        if token == \"+\":\n",
    "            temp = stack[-2] + stack[-1]\n",
    "            stack.pop()\n",
    "            stack.pop()\n",
    "            stack.append(temp)\n",
    "\n",
    "        elif token == \"*\":\n",
    "            temp = stack[-2] * stack[-1]\n",
    "            stack.pop()\n",
    "            stack.pop()\n",
    "            stack.append(temp)\n",
    "\n",
    "        elif token == \"/\":\n",
    "            temp = round(stack[-2] / stack[-1])\n",
    "            stack.pop()\n",
    "            stack.pop()\n",
    "            stack.append(temp)\n",
    "\n",
    "        elif token == \"-\":\n",
    "            temp = stack[-2] - stack[-1]\n",
    "            stack.pop()\n",
    "            stack.pop()\n",
    "            stack.append(temp)\n",
    "\n",
    "        else:\n",
    "            stack.append(int(token))\n",
    "\n",
    "    return stack[0]"
   ]
  },
  {
   "cell_type": "code",
   "execution_count": 20,
   "metadata": {},
   "outputs": [
    {
     "data": {
      "text/plain": [
       "7"
      ]
     },
     "execution_count": 20,
     "metadata": {},
     "output_type": "execute_result"
    }
   ],
   "source": [
    "evalRPN(tokens)"
   ]
  },
  {
   "cell_type": "code",
   "execution_count": 28,
   "metadata": {},
   "outputs": [],
   "source": [
    "temperatures = [73,74,75,71,69,72,76,73]\n",
    "\n",
    "def dailyTemp(temperatures):\n",
    "    answer = [0] * len(temperatures)\n",
    "    stack = []\n",
    "\n",
    "    for idx, temp in enumerate(temperatures):\n",
    "        while stack and temp > stack[-1][0]:\n",
    "            stackT, stackidx = stack.pop()\n",
    "            answer[stackidx] = (idx - stackidx)\n",
    "        stack.append([temp, idx])\n",
    "    return answer\n",
    "        \n",
    "\n"
   ]
  },
  {
   "cell_type": "code",
   "execution_count": 30,
   "metadata": {},
   "outputs": [
    {
     "data": {
      "text/plain": [
       "[1, 1, 4, 2, 1, 1, 0, 0]"
      ]
     },
     "execution_count": 30,
     "metadata": {},
     "output_type": "execute_result"
    }
   ],
   "source": [
    "dailyTemp(temperatures)"
   ]
  },
  {
   "cell_type": "code",
   "execution_count": 40,
   "metadata": {},
   "outputs": [],
   "source": [
    "n = 3\n",
    "def generate_parenthesis(n):\n",
    "    result = []\n",
    "    stack = []\n",
    "\n",
    "    def backtrack(o, c):\n",
    "        if o == c == n:\n",
    "            result.append(\"\".join(stack))\n",
    "            return\n",
    "\n",
    "        if o < n:\n",
    "            stack.append('(')\n",
    "            backtrack(o+1, c)\n",
    "            stack.pop()\n",
    "        \n",
    "        if c < o:\n",
    "            stack.append(')')\n",
    "            backtrack(o, c+1)\n",
    "            stack.pop()\n",
    "\n",
    "    backtrack(0,0)\n",
    "    return result\n"
   ]
  },
  {
   "cell_type": "code",
   "execution_count": 41,
   "metadata": {},
   "outputs": [
    {
     "data": {
      "text/plain": [
       "['((()))', '(()())', '(())()', '()(())', '()()()']"
      ]
     },
     "execution_count": 41,
     "metadata": {},
     "output_type": "execute_result"
    }
   ],
   "source": [
    "generate_parenthesis(n)"
   ]
  },
  {
   "cell_type": "code",
   "execution_count": 48,
   "metadata": {},
   "outputs": [],
   "source": [
    "s = \"0P\"\n",
    "cleaned_string = \"\".join([char for char in s.lower() if char.isalpha()])"
   ]
  },
  {
   "cell_type": "code",
   "execution_count": 49,
   "metadata": {},
   "outputs": [
    {
     "data": {
      "text/plain": [
       "'p'"
      ]
     },
     "execution_count": 49,
     "metadata": {},
     "output_type": "execute_result"
    }
   ],
   "source": [
    "cleaned_string"
   ]
  },
  {
   "cell_type": "code",
   "execution_count": 57,
   "metadata": {},
   "outputs": [],
   "source": [
    "def singleNumber(nums):\n",
    "    result=0\n",
    "    for num in nums:\n",
    "        result = num ^ result\n",
    "    return result\n",
    "\n",
    "nums = [4,1,2,1,2]"
   ]
  },
  {
   "cell_type": "code",
   "execution_count": 59,
   "metadata": {},
   "outputs": [
    {
     "data": {
      "text/plain": [
       "4"
      ]
     },
     "execution_count": 59,
     "metadata": {},
     "output_type": "execute_result"
    }
   ],
   "source": [
    "singleNumber(nums)"
   ]
  },
  {
   "cell_type": "code",
   "execution_count": 74,
   "metadata": {},
   "outputs": [],
   "source": [
    "def arrangeCoins(n):\n",
    "    result = 0\n",
    "    stairs_number = 1\n",
    "\n",
    "    while n > 0:\n",
    "        n = n - stairs_number\n",
    "        stairs_number = stairs_number + 1\n",
    "\n",
    "        if n >=0:\n",
    "            result += 1\n",
    "\n",
    "        \n",
    "    return result\n",
    "\n",
    "\n",
    "\n",
    "\n"
   ]
  },
  {
   "cell_type": "code",
   "execution_count": 75,
   "metadata": {},
   "outputs": [
    {
     "data": {
      "text/plain": [
       "2"
      ]
     },
     "execution_count": 75,
     "metadata": {},
     "output_type": "execute_result"
    }
   ],
   "source": [
    "arrangeCoins(5)"
   ]
  },
  {
   "cell_type": "code",
   "execution_count": 76,
   "metadata": {},
   "outputs": [
    {
     "data": {
      "text/plain": [
       "-49"
      ]
     },
     "execution_count": 76,
     "metadata": {},
     "output_type": "execute_result"
    }
   ],
   "source": [
    "-7 ** 2"
   ]
  },
  {
   "cell_type": "code",
   "execution_count": 81,
   "metadata": {},
   "outputs": [],
   "source": [
    "def findMin(nums):\n",
    "    min_val = nums[0]\n",
    "    left = 0\n",
    "    right = len(nums)-1\n",
    "\n",
    "    while left<=right:\n",
    "        if nums[left] < nums[right]:\n",
    "            min_val = min(min_val, nums[left])\n",
    "            break\n",
    "        \n",
    "        mid = (left+right)//2\n",
    "        min_val = min(min_val, nums[mid])\n",
    "\n",
    "        if nums[mid] >= nums[left]:\n",
    "            left = mid + 1\n",
    "        else:\n",
    "            right = mid - 1\n",
    "    return min_val"
   ]
  },
  {
   "cell_type": "code",
   "execution_count": 85,
   "metadata": {},
   "outputs": [],
   "source": [
    "findMin([44,57,60,11,13,15,17,21,34])"
   ]
  },
  {
   "cell_type": "code",
   "execution_count": 21,
   "metadata": {},
   "outputs": [],
   "source": [
    "def romanToInt(s):\n",
    "    my_numerals = {'I': 1, \n",
    "                    'V': 5,\n",
    "                    'X': 10,\n",
    "                    'L': 50,\n",
    "                    'C': 100,\n",
    "                    'D': 500,\n",
    "                    'M': 1000}\n",
    "\n",
    "    result = []\n",
    "    for i in range(len(s)):\n",
    "        if i + 1 < len(s) and my_numerals[s[i]] < my_numerals[s[i+1]]:\n",
    "            result.append(-(my_numerals[s[i]]))\n",
    "        else:\n",
    "            result.append(my_numerals[s[i]])\n",
    "    return sum(result)"
   ]
  },
  {
   "cell_type": "code",
   "execution_count": 26,
   "metadata": {},
   "outputs": [
    {
     "data": {
      "text/plain": [
       "1665"
      ]
     },
     "execution_count": 26,
     "metadata": {},
     "output_type": "execute_result"
    }
   ],
   "source": [
    "s = 'LXVDLXVDLXVD'\n",
    "romanToInt(s)"
   ]
  },
  {
   "cell_type": "code",
   "execution_count": null,
   "metadata": {},
   "outputs": [],
   "source": [
    "# You will be given a list of stock prices for a given day and your goal is to return the maximum profit\n",
    "#  that could have been made by buying a stock at the given price and then selling the stock later on. \n",
    "# For example if the input is: [45, 24, 35, 31, 40, 38, 11] then your program should return 16 \n",
    "# because if you bought the stock at $24 and sold it at $40, a profit\n",
    "#  of $16 was made and this is the largest profit that could be made. If no profit could have been made, return -1."
   ]
  },
  {
   "cell_type": "code",
   "execution_count": 2,
   "metadata": {},
   "outputs": [],
   "source": [
    "def maximumProfit(arr):\n",
    "    maximum_profit = 0\n",
    "    min_price = arr[0]\n",
    "\n",
    "    for i in range(len(arr)):\n",
    "        min_price = min(min_price, arr[i])\n",
    "        maximum_profit = max(maximum_profit, arr[i] - min_price)\n",
    "    return maximum_profit\n",
    "\n",
    "\n",
    "\n"
   ]
  },
  {
   "cell_type": "code",
   "execution_count": 4,
   "metadata": {},
   "outputs": [
    {
     "data": {
      "text/plain": [
       "16"
      ]
     },
     "execution_count": 4,
     "metadata": {},
     "output_type": "execute_result"
    }
   ],
   "source": [
    "maximumProfit([44,30,24,32,35,30,40,38,15])"
   ]
  },
  {
   "cell_type": "code",
   "execution_count": 61,
   "metadata": {},
   "outputs": [],
   "source": [
    "from collections import Counter\n",
    "def maxNumberofBalloons(text):\n",
    "    countText = Counter(text)\n",
    "    countBalloon = Counter(\"balloon\")\n",
    "    result = len(text)\n",
    "    \n",
    "    for char in \"balloon\":\n",
    "        result = min(result, countText[char] // countBalloon[char])\n",
    "    return result\n",
    "\n",
    "                "
   ]
  },
  {
   "cell_type": "code",
   "execution_count": 63,
   "metadata": {},
   "outputs": [
    {
     "data": {
      "text/plain": [
       "0"
      ]
     },
     "execution_count": 63,
     "metadata": {},
     "output_type": "execute_result"
    }
   ],
   "source": [
    "maxNumberofBalloons(\"leetcode\")"
   ]
  },
  {
   "cell_type": "code",
   "execution_count": 68,
   "metadata": {},
   "outputs": [],
   "source": [
    "nums = [4,3,2,7,8,2,3,1]\n",
    "def findDisappearedNumber(nums):\n",
    "    for idx, val in enumerate(nums, start=1):\n",
    "        nums.sort()\n",
    "        return nums\n"
   ]
  },
  {
   "cell_type": "code",
   "execution_count": 69,
   "metadata": {},
   "outputs": [
    {
     "data": {
      "text/plain": [
       "[1, 2, 2, 3, 3, 4, 7, 8]"
      ]
     },
     "execution_count": 69,
     "metadata": {},
     "output_type": "execute_result"
    }
   ],
   "source": [
    "findDisappearedNumber(nums)"
   ]
  },
  {
   "cell_type": "code",
   "execution_count": 2,
   "metadata": {},
   "outputs": [
    {
     "data": {
      "text/plain": [
       "[4, 2, 0, 7, 4]"
      ]
     },
     "execution_count": 2,
     "metadata": {},
     "output_type": "execute_result"
    }
   ],
   "source": [
    "encoded = [6,2,7,3]\n",
    "first = 4\n",
    "def decode(encoded, first):\n",
    "    result = [first]\n",
    "    for i in range(len(encoded)):\n",
    "        result.append(result[-1]^encoded[i])\n",
    "    return result\n",
    "\n",
    "\n",
    "decode(encoded, first)"
   ]
  },
  {
   "cell_type": "code",
   "execution_count": 39,
   "metadata": {},
   "outputs": [],
   "source": [
    "emails = [\"test.email+alex@leetcode.com\",\"test.e.mail+bob.cathy@leetcode.com\",\"testemail+david@lee.tcode.com\"]\n",
    "cleaned_email = set()\n",
    "def numUniqueEmails(emails):\n",
    "    for email in emails:\n",
    "        local_name, domain = email.split('@')\n",
    "        # remove . and split with +\n",
    "        local = local_name.split('+')[0].replace('.', '')\n",
    "        cleaned_email.add(local+\"@\"+domain)\n",
    "\n",
    "    return len(cleaned_email)\n"
   ]
  },
  {
   "cell_type": "code",
   "execution_count": 40,
   "metadata": {},
   "outputs": [
    {
     "data": {
      "text/plain": [
       "2"
      ]
     },
     "execution_count": 40,
     "metadata": {},
     "output_type": "execute_result"
    }
   ],
   "source": [
    "numUniqueEmails(emails)"
   ]
  },
  {
   "cell_type": "code",
   "execution_count": 5,
   "metadata": {},
   "outputs": [],
   "source": [
    "def rearrangeArray(nums):\n",
    "    nums.sort()\n",
    "    result = []\n",
    "\n",
    "    left = 0\n",
    "    right = len(nums)-1\n",
    "\n",
    "    while len(nums) != len(result):\n",
    "        result.append(nums[left])\n",
    "        left+=1\n",
    "\n",
    "        if left <= right:\n",
    "            result.append(nums[right])\n",
    "            right-=1\n",
    "    return result"
   ]
  },
  {
   "cell_type": "code",
   "execution_count": 6,
   "metadata": {},
   "outputs": [
    {
     "data": {
      "text/plain": [
       "[1, 5, 2, 4, 3]"
      ]
     },
     "execution_count": 6,
     "metadata": {},
     "output_type": "execute_result"
    }
   ],
   "source": [
    "nums=[1,2,3,4,5]\n",
    "rearrangeArray(nums)"
   ]
  },
  {
   "cell_type": "code",
   "execution_count": 17,
   "metadata": {},
   "outputs": [],
   "source": [
    "def isPalindrome(x):\n",
    "    rev = 0\n",
    "    nums=abs(x)\n",
    "    while abs(x) != 0:\n",
    "        rev = abs(x) % 10 + rev*10\n",
    "        x = abs(x) // 10\n",
    "\n",
    "    if nums == rev:\n",
    "        return True\n",
    "    return False"
   ]
  },
  {
   "cell_type": "code",
   "execution_count": 19,
   "metadata": {},
   "outputs": [
    {
     "data": {
      "text/plain": [
       "True"
      ]
     },
     "execution_count": 19,
     "metadata": {},
     "output_type": "execute_result"
    }
   ],
   "source": [
    "isPalindrome(-121)"
   ]
  },
  {
   "cell_type": "code",
   "execution_count": 20,
   "metadata": {},
   "outputs": [],
   "source": [
    "def myPow(x, n):\n",
    "    return x ** n\n"
   ]
  },
  {
   "cell_type": "code",
   "execution_count": 24,
   "metadata": {},
   "outputs": [
    {
     "data": {
      "text/plain": [
       "0.25"
      ]
     },
     "execution_count": 24,
     "metadata": {},
     "output_type": "execute_result"
    }
   ],
   "source": [
    "myPow(2.00000, -2)"
   ]
  },
  {
   "cell_type": "code",
   "execution_count": 27,
   "metadata": {},
   "outputs": [
    {
     "data": {
      "text/plain": [
       "0"
      ]
     },
     "execution_count": 27,
     "metadata": {},
     "output_type": "execute_result"
    }
   ],
   "source": [
    "2 // 10"
   ]
  },
  {
   "cell_type": "code",
   "execution_count": null,
   "metadata": {},
   "outputs": [],
   "source": []
  }
 ],
 "metadata": {
  "kernelspec": {
   "display_name": "Python 3",
   "language": "python",
   "name": "python3"
  },
  "language_info": {
   "codemirror_mode": {
    "name": "ipython",
    "version": 3
   },
   "file_extension": ".py",
   "mimetype": "text/x-python",
   "name": "python",
   "nbconvert_exporter": "python",
   "pygments_lexer": "ipython3",
   "version": "3.8.4"
  },
  "orig_nbformat": 4,
  "vscode": {
   "interpreter": {
    "hash": "9650cb4e16cdd4a8e8e2d128bf38d875813998db22a3c986335f89e0cb4d7bb2"
   }
  }
 },
 "nbformat": 4,
 "nbformat_minor": 2
}
