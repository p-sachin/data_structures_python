{
 "cells": [
  {
   "attachments": {},
   "cell_type": "markdown",
   "metadata": {},
   "source": [
    "Given the array nums, for each nums[i] find out how many numbers in the array are smaller than it. That is, for each nums[i] you have to count the number of valid j's such that j != i and nums[j] < nums[i].\n",
    "\n",
    "Return the answer in an array."
   ]
  },
  {
   "cell_type": "code",
   "execution_count": 12,
   "metadata": {},
   "outputs": [
    {
     "data": {
      "text/plain": [
       "[]"
      ]
     },
     "execution_count": 12,
     "metadata": {},
     "output_type": "execute_result"
    }
   ],
   "source": [
    "# Input: nums = [8,1,2,2,3]\n",
    "# Output: [4,0,1,1,3]\n",
    "\n",
    "nums = []\n",
    "def smallerNumbersThanCurrent(nums):\n",
    "    size = len(nums)\n",
    "    i=j=0\n",
    "    count = 0\n",
    "    arr = []\n",
    "    while i < size:\n",
    "        while j < size:\n",
    "            if nums[j] != nums[i] and nums[j] < nums[i]:\n",
    "                count = count + 1\n",
    "                j = j + 1\n",
    "            else:\n",
    "                j = j + 1\n",
    "        arr.append(count)\n",
    "        count = 0\n",
    "        j=0\n",
    "        i+=1\n",
    "    return arr\n",
    "\n",
    "\n",
    "smallerNumbersThanCurrent(nums)"
   ]
  },
  {
   "cell_type": "code",
   "execution_count": 74,
   "metadata": {},
   "outputs": [
    {
     "name": "stdout",
     "output_type": "stream",
     "text": [
      "This is a sentence\n"
     ]
    }
   ],
   "source": [
    "my_token = {}\n",
    "sentence = \"is2 sentence4 This1 a3\"\n",
    "sentence = sentence.split(' ')\n",
    "for tokens in sentence:\n",
    "    my_token[tokens[-1]] = tokens[:-1]\n",
    "my_token = {k : my_token[k] for k in sorted(my_token)}\n",
    "\n",
    "print(' '.join(my_token.values()))"
   ]
  },
  {
   "cell_type": "code",
   "execution_count": 163,
   "metadata": {},
   "outputs": [],
   "source": [
    "names = [\"Alice\",\"Bob\",\"Bob\"]\n",
    "heights = [180,165,170]\n",
    "\n",
    "my_list = []\n",
    "\n",
    "for i, j in zip(names, heights):\n",
    "    my_list.append((i, j))\n",
    "\n",
    "my_list.sort(key=lambda a: a[1], reverse=True)\n"
   ]
  },
  {
   "cell_type": "code",
   "execution_count": 164,
   "metadata": {},
   "outputs": [
    {
     "data": {
      "text/plain": [
       "[('Alice', 180), ('Bob', 170), ('Bob', 165)]"
      ]
     },
     "execution_count": 164,
     "metadata": {},
     "output_type": "execute_result"
    }
   ],
   "source": [
    "my_list"
   ]
  },
  {
   "cell_type": "code",
   "execution_count": 168,
   "metadata": {},
   "outputs": [],
   "source": [
    "def findMedianSortedArrays(nums1, nums2):\n",
    "        len_num1 = len(nums1)\n",
    "        len_num2 = len(nums2)\n",
    "\n",
    "        merged_list = []\n",
    "        i=j=0\n",
    "\n",
    "        while i < len_num1 and j < len_num2:\n",
    "            if nums1[i] <= nums2[j]:\n",
    "                merged_list.append(nums1[i])\n",
    "                i+=1\n",
    "            else:\n",
    "                merged_list.append(nums2[j])\n",
    "                j+=1\n",
    "\n",
    "        while i < len_num1:\n",
    "            merged_list.append(nums1[i])\n",
    "            i+=1\n",
    "\n",
    "        while j < len_num2:\n",
    "            merged_list.append(nums2[j])\n",
    "            j+=1\n",
    "\n",
    "        mid = len(merged_list) // 2\n",
    "\n",
    "        if len(merged_list) % 2 == 0:\n",
    "            return(sum(merged_list[mid-1:mid+1])/2)\n",
    "        else:\n",
    "            return merged_list[mid]\n",
    "        "
   ]
  },
  {
   "cell_type": "code",
   "execution_count": 169,
   "metadata": {},
   "outputs": [
    {
     "data": {
      "text/plain": [
       "3.5"
      ]
     },
     "execution_count": 169,
     "metadata": {},
     "output_type": "execute_result"
    }
   ],
   "source": [
    "findMedianSortedArrays([1,2,3], [4,5,6])"
   ]
  },
  {
   "cell_type": "code",
   "execution_count": 5,
   "metadata": {},
   "outputs": [
    {
     "data": {
      "text/plain": [
       "3"
      ]
     },
     "execution_count": 5,
     "metadata": {},
     "output_type": "execute_result"
    }
   ],
   "source": [
    "jewels = 'aA'\n",
    "stones = 'aAAbbbb'\n",
    "\n",
    "def checkjewels(jewels, stones):\n",
    "    count = 0\n",
    "    for i in jewels:\n",
    "        count += stones.count(i)\n",
    "\n",
    "    return count\n",
    "\n",
    "\n",
    "\n",
    "checkjewels(jewels, stones)\n",
    "\n"
   ]
  },
  {
   "cell_type": "code",
   "execution_count": 8,
   "metadata": {},
   "outputs": [
    {
     "data": {
      "text/plain": [
       "3"
      ]
     },
     "execution_count": 8,
     "metadata": {},
     "output_type": "execute_result"
    }
   ],
   "source": [
    "sentences = [\"please wait\", \"continue to fight\", \"continue to win\"]\n",
    "# Output: 3\n",
    "\n",
    "my_dict = {}\n",
    "\n",
    "\n",
    "for idx, values in enumerate(sentences):\n",
    "    my_dict[idx] = len(values.split( ' '))\n",
    "\n",
    "max(my_dict.values())\n"
   ]
  },
  {
   "cell_type": "code",
   "execution_count": 14,
   "metadata": {},
   "outputs": [],
   "source": [
    "s = \"codeleet\"\n",
    "indices = [4,5,6,7,0,2,1,3]\n",
    "#Output: \"leetcode\""
   ]
  },
  {
   "cell_type": "code",
   "execution_count": 20,
   "metadata": {},
   "outputs": [
    {
     "data": {
      "text/plain": [
       "'leetcdoe'"
      ]
     },
     "execution_count": 20,
     "metadata": {},
     "output_type": "execute_result"
    }
   ],
   "source": [
    "def stringsh(s, indices):\n",
    "    res = ''\n",
    "    for i in indices:\n",
    "        res += s[i]\n",
    "    \n",
    "    return res\n",
    "    \n",
    "stringsh(s, indices)"
   ]
  },
  {
   "cell_type": "code",
   "execution_count": 32,
   "metadata": {},
   "outputs": [],
   "source": [
    "s = \"Hello how are you contenstant?\"\n",
    "k = 4\n",
    "\n",
    "def trun(s, k):\n",
    "    return ' '.join(s.split(' ')[:k])"
   ]
  },
  {
   "cell_type": "code",
   "execution_count": 33,
   "metadata": {},
   "outputs": [
    {
     "data": {
      "text/plain": [
       "'Hello how are you'"
      ]
     },
     "execution_count": 33,
     "metadata": {},
     "output_type": "execute_result"
    }
   ],
   "source": [
    "trun(s, k)"
   ]
  },
  {
   "cell_type": "code",
   "execution_count": 40,
   "metadata": {},
   "outputs": [
    {
     "data": {
      "text/plain": [
       "-1"
      ]
     },
     "execution_count": 40,
     "metadata": {},
     "output_type": "execute_result"
    }
   ],
   "source": [
    "a = 'abc'\n",
    "a.find('abbb')"
   ]
  },
  {
   "cell_type": "code",
   "execution_count": 67,
   "metadata": {},
   "outputs": [
    {
     "name": "stdout",
     "output_type": "stream",
     "text": [
      "4\n"
     ]
    }
   ],
   "source": [
    "allowed = \"ab\"\n",
    "words = [\"ad\",\"bd\",\"aaab\",\"baa\",\"badab\", 'd', 'a', 'b', 'c']\n",
    "\n",
    "for char in allowed:\n",
    "    words = [i.replace(char, '') for i in words]\n",
    "   \n",
    "print(words.count(''))"
   ]
  },
  {
   "cell_type": "code",
   "execution_count": 82,
   "metadata": {},
   "outputs": [],
   "source": [
    "s = \"Let's take LeetCode contest\"\n",
    "#Output: \"s'teL ekat edoCteeL tsetnoc\"\n",
    "\n",
    "s = ' '.join([i[::-1] for i in s.split()])"
   ]
  },
  {
   "cell_type": "code",
   "execution_count": 84,
   "metadata": {},
   "outputs": [],
   "source": [
    "#Input: rings = \"B0B6G0R6R0R6G9\"\n",
    "#Output: 1"
   ]
  },
  {
   "cell_type": "code",
   "execution_count": null,
   "metadata": {},
   "outputs": [],
   "source": []
  }
 ],
 "metadata": {
  "kernelspec": {
   "display_name": "Python 3",
   "language": "python",
   "name": "python3"
  },
  "language_info": {
   "codemirror_mode": {
    "name": "ipython",
    "version": 3
   },
   "file_extension": ".py",
   "mimetype": "text/x-python",
   "name": "python",
   "nbconvert_exporter": "python",
   "pygments_lexer": "ipython3",
   "version": "3.8.4"
  },
  "orig_nbformat": 4,
  "vscode": {
   "interpreter": {
    "hash": "9650cb4e16cdd4a8e8e2d128bf38d875813998db22a3c986335f89e0cb4d7bb2"
   }
  }
 },
 "nbformat": 4,
 "nbformat_minor": 2
}
