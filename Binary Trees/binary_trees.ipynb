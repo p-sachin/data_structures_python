{
 "cells": [
  {
   "cell_type": "code",
   "execution_count": 93,
   "metadata": {},
   "outputs": [],
   "source": [
    "class BinarySearchTree:\n",
    "    def __init__(self, data):\n",
    "        self.data = data\n",
    "        self.left = None\n",
    "        self.right = None\n",
    "\n",
    "    def addChild(self, data):\n",
    "        if data == self.data:\n",
    "            return\n",
    "        if data < self.data:\n",
    "            # add data in left subtree\n",
    "            if self.left:\n",
    "                self.left.addChild(data)\n",
    "            else:\n",
    "                self.left = BinarySearchTree(data)\n",
    "        else:\n",
    "            # add data in right subtree\n",
    "            if self.right:\n",
    "                self.right.addChild(data)\n",
    "            else:\n",
    "                self.right = BinarySearchTree(data)\n",
    "\n",
    "    def inOrderTraversal(self):\n",
    "        elements = []\n",
    "        # Visit Left Tree\n",
    "        if self.left:\n",
    "            elements += self.left.inOrderTraversal()\n",
    "        # Visit base node\n",
    "        elements.append(self.data)\n",
    "        # Visit right tree\n",
    "        if self.right:\n",
    "            elements += self.right.inOrderTraversal()\n",
    "        return elements\n",
    "\n",
    "\n",
    "    def preOrderTraversal(self):\n",
    "        elements = []\n",
    "        elements.append(self.data)\n",
    "        if self.left:\n",
    "            elements += self.left.preOrderTraversal()\n",
    "        if self.right:\n",
    "            elements += self.right.preOrderTraversal()\n",
    "        return elements\n",
    "\n",
    "    def postOrderTraversal(self):\n",
    "        elements = []\n",
    "        if self.left:\n",
    "            elements += self.left.postOrderTraversal()\n",
    "        if self.right:\n",
    "            elements += self.right.postOrderTraversal()\n",
    "        \n",
    "        elements.append(self.data)\n",
    "\n",
    "        return elements\n",
    "\n",
    "    def find_min(self):\n",
    "        if self.left is None:\n",
    "            return self.data\n",
    "        return self.left.find_min()\n",
    "\n",
    "    def find_max(self):\n",
    "        if self.right is None:\n",
    "            return self.data\n",
    "        return self.right.find_max()     \n",
    "\n",
    "    def calculate(self):\n",
    "        left_sum = self.left.calculate() if self.left else 0\n",
    "        right_sum = self.right.calculate() if self.right else 0\n",
    "        return left_sum + right_sum + self.data\n",
    "\n",
    "    def search(self, val):\n",
    "        if self.data == val:\n",
    "            return True\n",
    "        if val < self.data:\n",
    "            # Value might be in left subtree\n",
    "            if self.left:\n",
    "                return self.left.search(val)\n",
    "            else:\n",
    "                return False\n",
    "        \n",
    "        if val > self.data:\n",
    "            if self.right:\n",
    "                return self.right.search(val)\n",
    "            else:\n",
    "                return False\n",
    "\n",
    "def build_tree(elements):\n",
    "    root = BinarySearchTree(elements[0])\n",
    "    for i in range(1, len(elements)):\n",
    "        root.addChild(elements[i])\n",
    "    return root"
   ]
  },
  {
   "cell_type": "code",
   "execution_count": 94,
   "metadata": {},
   "outputs": [],
   "source": [
    "numbers = [17, 4, 1, 20, 9, 23, 18, 34]\n",
    "numbers_tree = build_tree(numbers)"
   ]
  },
  {
   "cell_type": "code",
   "execution_count": 95,
   "metadata": {},
   "outputs": [
    {
     "data": {
      "text/plain": [
       "126"
      ]
     },
     "execution_count": 95,
     "metadata": {},
     "output_type": "execute_result"
    }
   ],
   "source": [
    "numbers_tree.postOrderTraversal()\n",
    "numbers_tree.calculate()"
   ]
  },
  {
   "attachments": {},
   "cell_type": "markdown",
   "metadata": {},
   "source": [
    "#### Delete a Node from Binary Trees"
   ]
  },
  {
   "cell_type": "code",
   "execution_count": 130,
   "metadata": {},
   "outputs": [],
   "source": [
    "class BST:\n",
    "    def __init__(self, data):\n",
    "        self.data = data\n",
    "        self.left = None\n",
    "        self.right = None\n",
    "\n",
    "    \n",
    "    def addChild(self, data):\n",
    "        if self.data == data:\n",
    "            return\n",
    "        if data < self.data:\n",
    "            # add data in left subtree\n",
    "            if self.left:\n",
    "                self.left.addChild(data)\n",
    "            else:\n",
    "                self.left = BST(data)\n",
    "        else:\n",
    "            # add data in right subtree\n",
    "            if self.right:\n",
    "                self.right.addChild(data)\n",
    "            else:\n",
    "                self.right = BST(data)\n",
    "\n",
    "    def inOrderTraversal(self):\n",
    "        elements = []\n",
    "        if self.left:\n",
    "            elements += self.left.inOrderTraversal()\n",
    "        elements.append(self.data)\n",
    "        if self.right:\n",
    "            elements += self.right.inOrderTraversal()\n",
    "        return elements \n",
    "\n",
    "    def findMin(self):\n",
    "        if self.left is None:\n",
    "            return self.data\n",
    "        return self.left.findMin()\n",
    "\n",
    "    def findMax(self):\n",
    "        if self.right is None:\n",
    "            return self.data\n",
    "        return self.right.findMax()\n",
    "\n",
    "\n",
    "    def deleteNodewithMin(self, val):\n",
    "        if val < self.data:\n",
    "            if self.left:\n",
    "                self.left = self.left.deleteNodewithMin(val)\n",
    "        elif val > self.data:\n",
    "            if self.right:\n",
    "                self.right = self.right.deleteNodewithMin(val)\n",
    "        else:\n",
    "            if self.left is None and self.right is None:\n",
    "                return None\n",
    "            if self.left is None:\n",
    "                return self.right\n",
    "            if self.right is None:\n",
    "                return self.right\n",
    "                \n",
    "            min_val = self.right.findMin()\n",
    "            self.data = min_val\n",
    "            self.right = self.right.deleteNodewithMin(min_val)\n",
    "        return self\n",
    "\n",
    "    def deleteNodewithMax(self, val):\n",
    "        if val < self.data:\n",
    "            if self.left:\n",
    "                self.left = self.left.deleteNodewithMax(val)\n",
    "        elif val > self.data:\n",
    "            if self.right:\n",
    "                self.right = self.right.deleteNodewithMax(val)\n",
    "        else:\n",
    "            if self.left is None and self.right is None:\n",
    "                return None\n",
    "            if self.left is None:\n",
    "                return self.left\n",
    "            if self.right is None:\n",
    "                return self.left\n",
    "\n",
    "            max_val = self.findMax()\n",
    "            self.data = max_val\n",
    "            self.left = self.left.deleteNodewithMax(max_val)\n",
    "        return self\n",
    "\n",
    "\n",
    "def generate_tree(elements):\n",
    "    root = BST(elements[0])\n",
    "    for i in range(1, len(elements)):\n",
    "        root.addChild(elements[i])\n",
    "    return root\n",
    "                "
   ]
  },
  {
   "cell_type": "code",
   "execution_count": 132,
   "metadata": {},
   "outputs": [
    {
     "data": {
      "text/plain": [
       "[3, 6, 7, 9, 11, 15, 18, 20, 25]"
      ]
     },
     "execution_count": 132,
     "metadata": {},
     "output_type": "execute_result"
    }
   ],
   "source": [
    "elements = [7, 15, 3, 6, 9, 11, 20, 18, 30, 25]\n",
    "root_node = generate_tree(elements)\n",
    "root_node.deleteNodewithMax(30)\n",
    "root_node.inOrderTraversal()"
   ]
  },
  {
   "cell_type": "code",
   "execution_count": null,
   "metadata": {},
   "outputs": [],
   "source": []
  }
 ],
 "metadata": {
  "kernelspec": {
   "display_name": "Python 3",
   "language": "python",
   "name": "python3"
  },
  "language_info": {
   "codemirror_mode": {
    "name": "ipython",
    "version": 3
   },
   "file_extension": ".py",
   "mimetype": "text/x-python",
   "name": "python",
   "nbconvert_exporter": "python",
   "pygments_lexer": "ipython3",
   "version": "3.8.4"
  },
  "orig_nbformat": 4,
  "vscode": {
   "interpreter": {
    "hash": "9650cb4e16cdd4a8e8e2d128bf38d875813998db22a3c986335f89e0cb4d7bb2"
   }
  }
 },
 "nbformat": 4,
 "nbformat_minor": 2
}
